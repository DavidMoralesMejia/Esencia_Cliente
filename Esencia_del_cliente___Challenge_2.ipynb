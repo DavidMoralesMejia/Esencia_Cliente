{
  "nbformat": 4,
  "nbformat_minor": 0,
  "metadata": {
    "colab": {
      "provenance": [],
      "collapsed_sections": [
        "LURYK35bMX6N"
      ]
    },
    "kernelspec": {
      "name": "python3",
      "display_name": "Python 3"
    },
    "language_info": {
      "name": "python"
    }
  },
  "cells": [
    {
      "cell_type": "markdown",
      "source": [
        "#1. **Importación de librerias**\n",
        "\n",
        "Importación de las herramientas básicas a usar en el proyecto."
      ],
      "metadata": {
        "id": "zYP5x8_-34OV"
      }
    },
    {
      "cell_type": "code",
      "execution_count": null,
      "metadata": {
        "id": "SYrAZhaSIhG-"
      },
      "outputs": [],
      "source": [
        "import numpy as np\n",
        "import pandas as pd"
      ]
    },
    {
      "cell_type": "markdown",
      "source": [
        "#2. **Entendimiento de los datos**\n",
        "\n",
        "Con el entendimiento nos referimos a una previsualización de la información para entender como está compuesta y su comportamiento por variable."
      ],
      "metadata": {
        "id": "gPgSrxVD4D_a"
      }
    },
    {
      "cell_type": "code",
      "source": [
        "datos=pd.read_csv('media prediction and its cost.csv')"
      ],
      "metadata": {
        "id": "kJAispMUImpQ"
      },
      "execution_count": null,
      "outputs": []
    },
    {
      "cell_type": "markdown",
      "source": [
        "##Diccionarios\n",
        "\n",
        "Diciionarios para la traducción de las variables del DataFrame a usar"
      ],
      "metadata": {
        "id": "LURYK35bMX6N"
      }
    },
    {
      "cell_type": "code",
      "source": [
        "\n",
        "categoria_alimento = {\n",
        "    'Vegetables': 'Vegetales',\n",
        "    'Snack Foods': 'Alimentos para picar',\n",
        "    'Dairy': 'Productos lacteos',\n",
        "    'Meat': 'Carne',\n",
        "    'Fruit': 'Fruta',\n",
        "    'Jams and Jellies': 'Mermeladas y jaleas',\n",
        "    'Baking Goods': 'Productos para hornear',\n",
        "    'Breakfast Foods': 'Alimentos para el desayuno',\n",
        "    'Bread': 'Pan',\n",
        "    'Canned Soup': 'Sopa enlatada',\n",
        "    'Beer and Wine': 'Cerveza y vino',\n",
        "    'Paper Products': 'Productos de papel',\n",
        "    'Bathroom Products': 'Productos de bano',\n",
        "    'Electrical': 'Electrico',\n",
        "    'Candy': 'Dulces',\n",
        "    'Frozen Desserts': 'Postres congelados',\n",
        "    'Specialty': 'Especialidades',\n",
        "    'Starchy Foods': 'Alimentos ricos en almidon',\n",
        "    'Magazines': 'Revistas',\n",
        "    'Kitchen Products': 'Productos de cocina',\n",
        "    'Eggs': 'Huevos',\n",
        "    'Hot Beverages': 'Bebidas calientes',\n",
        "    'Hygiene': 'Higiene',\n",
        "    'Pain Relievers': 'Analgesicos',\n",
        "    'Pizza': 'Pizza',\n",
        "    'Carbonated Beverages': 'Bebidas carbonatadas',\n",
        "    'Pure Juice Beverages': 'Bebidas de jugo puro',\n",
        "    'Cleaning Supplies': 'Suministros de limpieza',\n",
        "    'Side Dishes': 'Acompanamientos',\n",
        "    'Frozen Entrees': 'Platos preparados congelados',\n",
        "    'Drinks': 'Bebidas',\n",
        "    'Plastic Products': 'Productos de plastico',\n",
        "    'Hardware': 'Articulos de ferreteria',\n",
        "    'Cold Remedies': 'Remedios para el resfriado',\n",
        "    'Decongestants': 'Descongestionantes',\n",
        "    'Canned Tuna': 'Atun enlatado',\n",
        "    'Seafood': 'Mariscos',\n",
        "    'Canned Anchovies': 'Anchoas enlatadas',\n",
        "    'Canned Clams': 'Almejas enlatadas',\n",
        "    'Candles': 'Velas',\n",
        "    'Miscellaneous': 'Miscelaneos',\n",
        "    'Canned Oysters': 'Ostras enlatadas',\n",
        "    'Canned Shrimp': 'Camarones enlatados',\n",
        "    'Packaged Vegetables': 'Vegetales envasados',\n",
        "    'Canned Sardines': 'Sardinas enlatadas'\n",
        "}\n",
        "\n",
        "departamento = {\n",
        "    'Produce': 'Productos frescos',\n",
        "    'Snack Foods': 'Alimentos para picar',\n",
        "    'Household': 'Articulos para el hogar',\n",
        "    'Frozen Foods': 'Alimentos congelados',\n",
        "    'Baking Goods': 'Productos para hornear',\n",
        "    'Canned Foods': 'Alimentos enlatados',\n",
        "    'Dairy': 'Productos lacteos',\n",
        "    'Health and Hygiene': 'Salud e higiene',\n",
        "    'Beverages': 'Bebidas',\n",
        "    'Deli': 'Charcuteria',\n",
        "    'Baked Goods': 'Productos horneados',\n",
        "    'Alcoholic Beverages': 'Bebidas alcoholicas',\n",
        "    'Snacks': 'Snacks',\n",
        "    'Starchy Foods': 'Alimentos ricos en almidon',\n",
        "    'Periodicals': 'Publicaciones periodicas',\n",
        "    'Eggs': 'Huevos',\n",
        "    'Breakfast Foods': 'Alimentos para el desayuno',\n",
        "    'Canned Products': 'Productos enlatados',\n",
        "    'Checkout': 'Caja de salida',\n",
        "    'Meat': 'Carne',\n",
        "    'Seafood': 'Mariscos',\n",
        "    'Carousel': 'Carrusel'\n",
        "}\n",
        "\n",
        "tipo= {'Food':'Comida', 'Non-Consumable':'No comestible', 'Drink':'Bebida'}\n",
        "\n",
        "promocion= {\n",
        "    'Weekend Markdown': 'Descuento de fin de semana',\n",
        "    'Two Day Sale': 'Venta de dos dias',\n",
        "    'Price Savers': 'Ahorro de precios',\n",
        "    'Price Winners': 'Ganadores de precios',\n",
        "    'Save-It Sale': 'Venta Ahorra Ya',\n",
        "    'Super Duper Savers': 'Super Ahorradores',\n",
        "    'Super Savers': 'Super Ahorro',\n",
        "    'One Day Sale': 'Venta de un dia',\n",
        "    'Double Down Sale': 'Venta Doble',\n",
        "    'High Roller Savings': 'Ahorro para apostadores grandes',\n",
        "    'Green Light Days': 'Dias de luz verde',\n",
        "    'Shelf Clearing Days': 'Dias de Liquidacion de estanterias',\n",
        "    'Price Slashers': 'Rebajadores de precios',\n",
        "    'Free For All': 'Gratis para todos',\n",
        "    'Cash Register Lottery': 'Loteria de la caja registradora',\n",
        "    'Go For It': 'Adelante',\n",
        "    'Two for One': 'Dos por uno',\n",
        "    'Money Savers': 'Ahorradores de dinero',\n",
        "    'Big Time Discounts': 'Descuentos de gran magnitud',\n",
        "    'Price Destroyers': 'Destructores de precios',\n",
        "    'Saving Days': 'Dias de ahorro',\n",
        "    'Dollar Cutters': 'Recortadores de dolares',\n",
        "    'Unbeatable Price Savers': 'Ahorro de precios imbatible',\n",
        "    'Sales Galore': 'Promociones por montones',\n",
        "    'Big Promo': 'Gran Promo',\n",
        "    'Dimes Off': 'Mas barato',\n",
        "    'Sales Days': 'Dias de venta',\n",
        "    'Price Cutters': 'Rebajando precios',\n",
        "    'You Save Days': 'Dias de ahorro',\n",
        "    'Savings Galore': 'Ahorros por montones',\n",
        "    'Bag Stuffers': 'Bolsas llenas',\n",
        "    'Three for One': 'Tres por uno',\n",
        "    'I Cant Believe It Sale': 'Venta No Puedo Creerlo',\n",
        "    'Sale Winners': 'Ganadores de ventas',\n",
        "    'Pick Your Savings': 'Elige tus ahorros',\n",
        "    'Bye Bye Baby': 'Adios bebe',\n",
        "    'Best Savings': 'Mejores ahorros',\n",
        "    'Tip Top Savings': 'Ahorro de primera clase',\n",
        "    'Shelf Emptiers': 'Estantes vacios',\n",
        "    'Big Time Savings': 'Ahorro Enorme',\n",
        "    'Wallet Savers': 'Ahorradores de billetera',\n",
        "    'Dollar Days': 'Dias de dolar',\n",
        "    'Mystery Sale': 'Venta misteriosa',\n",
        "    'Price Smashers': 'Aplastadores de precios',\n",
        "    'Green Light Special': 'Especial luz verde',\n",
        "    'Coupon Spectacular': 'Espectacular de cupones',\n",
        "    'Super Wallet Savers': 'Super ahorradores de billetera',\n",
        "    'Double Your Savings': 'Duplica tus ahorros',\n",
        "    'Fantastic Discounts': 'Descuentos Fantastico'\n",
        "}\n",
        "\n",
        "escolaridad = {\n",
        "    'Partial High School':'Primaria',\n",
        "    'High School Degree':'Secundaria',\n",
        "    'Bachelors Degree':'Superior',\n",
        "    'Partial College':'Tecnico',\n",
        "    'Graduate Degree':'Maestria'\n",
        "}\n",
        "\n",
        "miembro = {\n",
        "    'Bronze':'1.Bronce',\n",
        "    'Golden': '3.Oro',\n",
        "    'Silver':'2.Plata'\n",
        "}\n",
        "\n",
        "ocupacion = {\n",
        "    'Professional':'Profesional',\n",
        "    'Skilled Manual':'Tecnico',\n",
        "    'Manual':'Obrero',\n",
        "    'Management':'Gestion',\n",
        "    'Clerical':'Cargo de Oficina'\n",
        "}\n",
        "\n",
        "pais = {\n",
        "    'USA':'Estados Unidos',\n",
        "    'Mexico':'Mexico',\n",
        "    'Canada':'Canada'\n",
        "}\n",
        "['estado_civil', 'genero', 'ingreso_anual', 'comercio', 'divulgacion', 'columnas']\n",
        "estado_civil = {\n",
        "    'S':'Soltero', 'M':'Casado'\n",
        "}\n",
        "\n",
        "genero ={\n",
        "    'F':'Femenino',\n",
        "    'M':'Masculino'\n",
        "}\n",
        "\n",
        "vivienda_propia={'Y':'Si', 'N':'No'}\n",
        "\n",
        "ingreso_anual={\n",
        "    '$30K - $50K':40000,\n",
        "    '$10K - $30K':20000,\n",
        "    '$50K - $70K':60000,\n",
        "    '$70K - $90K':80000,\n",
        "    '$130K - $150K':140000,\n",
        "    '$90K - $110K':100000,\n",
        "    '$110K - $130K':120000,\n",
        "    '$150K +':160000\n",
        "}\n",
        "\n",
        "\n",
        "\n",
        "comercio = {\n",
        "    'Supermarket': 'Supermercado',\n",
        "    'Deluxe Supermarket': 'Supermercado de lujo',\n",
        "    'Gourmet Supermarket': 'Supermercado gourmet',\n",
        "    'Mid-Size Grocery': 'Supermercado mediano',\n",
        "    'Small Grocery': 'Chico supermercado'\n",
        "}\n",
        "\n",
        "\n",
        "divulgacion = {\n",
        "    'Daily Paper, Radio': 'Periodico diario, radio',\n",
        "    'Product Attachment': 'Anexo del producto',\n",
        "    'Daily Paper, Radio, TV': 'Periodico diario, radio, TV',\n",
        "    'Daily Paper': 'Periodico diario',\n",
        "    'Street Handout': 'Panfletos',\n",
        "    'Radio': 'Radio',\n",
        "    'Sunday Paper': 'Periodico dominical',\n",
        "    'In-Store Coupon': 'Cupon en la tienda',\n",
        "    'Sunday Paper, Radio': 'Periodico dominical, radio',\n",
        "    'Cash Register Handout': 'Entrega en el punto de venta',\n",
        "    'TV': 'TV',\n",
        "    'Bulk Mail': 'Correo masivo',\n",
        "    'Sunday Paper, Radio, TV': 'Periodico dominical, radio, TV'\n",
        "}\n",
        "\n",
        "columnas = {\n",
        "    'food_category': 'categoria_alimento',\n",
        "    'food_department': 'departamento',\n",
        "    'food_family': 'tipo',\n",
        "    'store_sales(in millions)': 'ventas_tienda(en millones)',\n",
        "    'store_cost(in millions)': 'costo_tienda(en millones)',\n",
        "    'unit_sales(in millions)': 'ventas_unitarias(en millones)',\n",
        "    'promotion_name': 'promocion',\n",
        "    'sales_country': 'pais',\n",
        "    'marital_status': 'estado_civil',\n",
        "    'gender': 'genero',\n",
        "    'total_children': 'total_de_hijos',\n",
        "    'education': 'escolaridad',\n",
        "    'member_card': 'miembro',\n",
        "    'occupation': 'ocupacion',\n",
        "    'houseowner': 'vivienda_propia',\n",
        "    'avg_cars_at home(approx)': 'promedio_autos(aprox)',\n",
        "    'avg. yearly_income': 'ingreso_anual',\n",
        "    'num_children_at_home': 'numero_hijos',\n",
        "    'avg_cars_at home(approx).1': 'promedio_autos(aprox)',\n",
        "    'brand_name': 'marca',\n",
        "    'SRP': 'precio_recomendado',\n",
        "    'gross_weight': 'peso_bruto',\n",
        "    'net_weight': 'peso_neto',\n",
        "    'recyclable_package': 'empaque_reciclable',\n",
        "    'low_fat': 'bajo_en_grasa',\n",
        "    'units_per_case': 'unidades_por_caja',\n",
        "    'store_type': 'comercio',\n",
        "    'store_city': 'ciudad',\n",
        "    'store_state': 'estado',\n",
        "    'store_sqft': 'pies_cuadrados_tienda',\n",
        "    'grocery_sqft': 'pies_cuadrados_comestibles',\n",
        "    'frozen_sqft': 'pies_cuadrados_congelados',\n",
        "    'meat_sqft': 'pies_cuadrados_carne',\n",
        "    'coffee_bar': 'cafeteria',\n",
        "    'video_store': 'tienda_de_videos',\n",
        "    'salad_bar': 'barra_de_ensaladas',\n",
        "    'prepared_food': 'comida_preparada',\n",
        "    'florist': 'floristeria',\n",
        "    'media_type': 'divulgacion',\n",
        "    'cost': 'costo'\n",
        "}"
      ],
      "metadata": {
        "id": "UM_Rz2VyIxyE"
      },
      "execution_count": null,
      "outputs": []
    },
    {
      "cell_type": "markdown",
      "source": [
        "#3. **Tratamiento**\n",
        "\n",
        "Conversión de clumnas y de los datos para un análisis eficaz y preciso de acuerdo a lo que se necesita."
      ],
      "metadata": {
        "id": "qQVBqUrTMhqj"
      }
    },
    {
      "cell_type": "markdown",
      "source": [
        "##R*enombre de columnas*"
      ],
      "metadata": {
        "id": "GnV9G7xa5OyV"
      }
    },
    {
      "cell_type": "code",
      "source": [
        "datos=datos.rename(columns=columnas)"
      ],
      "metadata": {
        "id": "fDt7M1LJMUMK"
      },
      "execution_count": null,
      "outputs": []
    },
    {
      "cell_type": "code",
      "source": [
        "lista_diccionarios=[categoria_alimento, departamento, tipo, escolaridad, miembro, ocupacion, promocion,pais, estado_civil, genero, ingreso_anual, comercio, divulgacion]\n",
        "\n",
        "listado=['categoria_alimento', 'departamento', 'tipo','ventas_tienda(en millones)', 'pais',\n",
        "       'estado_civil', 'genero', 'escolaridad',\n",
        "       'miembro', 'ocupacion', 'vivienda_propia', 'promedio_autos(aprox)',\n",
        "       'ingreso_anual', 'numero_hijos', 'marca',\n",
        "       'precio_recomendado', 'peso_bruto', 'peso_neto',\n",
        "       'empaque_reciclable', 'bajo_en_grasa', 'unidades_por_caja',\n",
        "       'comercio', 'ciudad', 'estado', 'pies_cuadrados_tienda',\n",
        "       'pies_cuadrados_comestibles', 'pies_cuadrados_congelados',\n",
        "       'pies_cuadrados_carne', 'cafeteria', 'tienda_de_videos',\n",
        "       'barra_de_ensaladas', 'comida_preparada', 'floristeria',\n",
        "       'divulgacion', 'costo']\n",
        "listado=datos.columns.values"
      ],
      "metadata": {
        "id": "3yCPlQFQMePG"
      },
      "execution_count": null,
      "outputs": []
    },
    {
      "cell_type": "markdown",
      "source": [
        "##*3.1 Selección de datos incambiables*"
      ],
      "metadata": {
        "id": "NfbOWONu4jed"
      }
    },
    {
      "cell_type": "code",
      "source": [
        "datos_seleccionados=datos[[ 'ventas_tienda(en millones)', 'costo_tienda(en millones)'\t, 'ventas_unitarias(en millones)', 'total_de_hijos', 'escolaridad', 'miembro']]\n",
        "datos_seleccionados.head()"
      ],
      "metadata": {
        "id": "hRocQjG9hJu2"
      },
      "execution_count": null,
      "outputs": []
    },
    {
      "cell_type": "markdown",
      "source": [
        "##3.2 *Conversión de datos en columnas por medio de diccionarios*\n",
        "\n",
        "Se opto por usar un for que simplifique el código en recorrer los datos para cmabiar los valores correspondientes de los diccionarios."
      ],
      "metadata": {
        "id": "K_MW1rGJ4oT7"
      }
    },
    {
      "cell_type": "code",
      "source": [
        "for i in range(len(lista_diccionarios)):\n",
        "  datos[listado[i]] = datos[listado[i]].map(lista_diccionarios[i])"
      ],
      "metadata": {
        "id": "P-5ACQnVdWie"
      },
      "execution_count": null,
      "outputs": []
    },
    {
      "cell_type": "markdown",
      "source": [
        "##3.3 *Eliminación de columnas con errores \"NaN\"*"
      ],
      "metadata": {
        "id": "ULrFCh7e4_wa"
      }
    },
    {
      "cell_type": "code",
      "source": [
        "datos_limpia=datos.drop(['ventas_tienda(en millones)', 'costo_tienda(en millones)'\t, 'ventas_unitarias(en millones)', 'total_de_hijos', 'escolaridad', 'miembro'], axis=1)"
      ],
      "metadata": {
        "id": "SCbm1TJngrhe"
      },
      "execution_count": null,
      "outputs": []
    },
    {
      "cell_type": "markdown",
      "source": [
        "##3.4 *Unión de DataFrames tratados y refinados*"
      ],
      "metadata": {
        "id": "H0C7jLOo5FTq"
      }
    },
    {
      "cell_type": "code",
      "source": [
        "datos_pulidos=pd.concat([datos_limpia, datos_seleccionados], axis=1)\n",
        "datos_pulidos"
      ],
      "metadata": {
        "id": "BmO6B23kwg6q"
      },
      "execution_count": null,
      "outputs": []
    },
    {
      "cell_type": "markdown",
      "source": [
        "#4. **Exportación y guardado de DataFrame tratado**\n",
        "\n",
        "Una vez listos los datos a ratar, se exporta el documento para usarse simplificadamente en los nuevos procesos."
      ],
      "metadata": {
        "id": "Jm2RfVpJ5LJb"
      }
    },
    {
      "cell_type": "code",
      "source": [
        "from google.colab import drive\n",
        "import pandas as pd\n",
        "import numpy as np"
      ],
      "metadata": {
        "id": "r6mfxnLM3LsK"
      },
      "execution_count": null,
      "outputs": []
    },
    {
      "cell_type": "code",
      "source": [
        "datos_pulidos.to_csv('/content/drive/MyDrive/Colab Notebooks/datos_pulidos.csv', index=False)"
      ],
      "metadata": {
        "id": "V7u27mVF6hqz"
      },
      "execution_count": null,
      "outputs": []
    },
    {
      "cell_type": "code",
      "source": [
        "datos=pd.read_csv('/content/drive/MyDrive/Colab Notebooks/datos_pulidos.csv')"
      ],
      "metadata": {
        "id": "D2G702z76wVx"
      },
      "execution_count": null,
      "outputs": []
    },
    {
      "cell_type": "code",
      "source": [
        "datos['id_generado'] = datos['estado_civil'].astype(str) + datos['genero'].astype(str) + datos['ocupacion'].astype(str) + datos['vivienda_propia'].astype(str) + datos['marca'].astype(str) + datos['numero_hijos'].astype(str) + datos['ciudad']\n",
        "\n",
        "datos.head()"
      ],
      "metadata": {
        "id": "RktEJ3v9Vz7y"
      },
      "execution_count": null,
      "outputs": []
    },
    {
      "cell_type": "code",
      "source": [
        "datos['id_generado'].unique().tolist()"
      ],
      "metadata": {
        "id": "VQuQjKkIbLzG"
      },
      "execution_count": null,
      "outputs": []
    },
    {
      "cell_type": "markdown",
      "source": [
        "#5. **Previa visualización**"
      ],
      "metadata": {
        "id": "TLZ3O8Q68UP5"
      }
    },
    {
      "cell_type": "code",
      "source": [
        "import seaborn as sns\n",
        "import matplotlib.pyplot as plt"
      ],
      "metadata": {
        "id": "xknzUdrz7uyR"
      },
      "execution_count": null,
      "outputs": []
    },
    {
      "cell_type": "code",
      "source": [
        "datos.columns.values"
      ],
      "metadata": {
        "id": "BgNIKngSUZhi"
      },
      "execution_count": null,
      "outputs": []
    },
    {
      "cell_type": "markdown",
      "source": [
        "## Se decidio revisar la relación entre diferentes variables entre las cuales estaban: estado civil, genero, cantidad de hijos, ventas de la tienda, tipo de producto, categoría de los miembros, etc."
      ],
      "metadata": {
        "id": "MC0a6bppT2p8"
      }
    },
    {
      "cell_type": "code",
      "source": [
        "sns.barplot(data=datos, x=\"ventas_tienda(en millones)\", hue=\"miembro\")"
      ],
      "metadata": {
        "colab": {
          "base_uri": "https://localhost:8080/",
          "height": 467
        },
        "id": "Cup4rb3_DHMF",
        "outputId": "623f130a-237b-4e88-84b0-ce687e008978"
      },
      "execution_count": null,
      "outputs": [
        {
          "output_type": "execute_result",
          "data": {
            "text/plain": [
              "<Axes: xlabel='ventas_tienda(en millones)'>"
            ]
          },
          "metadata": {},
          "execution_count": 156
        },
        {
          "output_type": "display_data",
          "data": {
            "text/plain": [
              "<Figure size 640x480 with 1 Axes>"
            ],
            "image/png": "[encoded data removed]"
          },
          "metadata": {}
        }
      ]
    },
    {
      "cell_type": "code",
      "source": [
        "sns.barplot(data=datos, x=\"costo_tienda(en millones)\", hue=\"tipo\")"
      ],
      "metadata": {
        "colab": {
          "base_uri": "https://localhost:8080/",
          "height": 467
        },
        "id": "8VIqupAjTQfj",
        "outputId": "9fd9b857-dca0-44a4-b636-090d1aa1457e"
      },
      "execution_count": null,
      "outputs": [
        {
          "output_type": "execute_result",
          "data": {
            "text/plain": [
              "<Axes: xlabel='costo_tienda(en millones)'>"
            ]
          },
          "metadata": {},
          "execution_count": 162
        },
        {
          "output_type": "display_data",
          "data": {
            "text/plain": [
              "<Figure size 640x480 with 1 Axes>"
            ],
            "image/png": "[encoded data removed]"
          },
          "metadata": {}
        }
      ]
    },
    {
      "cell_type": "code",
      "source": [
        "sns.barplot(data=datos, x=\"floristeria\", hue=\"miembro\")"
      ],
      "metadata": {
        "colab": {
          "base_uri": "https://localhost:8080/",
          "height": 466
        },
        "id": "y60JMF0lUtRM",
        "outputId": "a21d0bcf-266a-4efb-ebc5-22e07359f2ae"
      },
      "execution_count": null,
      "outputs": [
        {
          "output_type": "execute_result",
          "data": {
            "text/plain": [
              "<Axes: xlabel='floristeria'>"
            ]
          },
          "metadata": {},
          "execution_count": 171
        },
        {
          "output_type": "display_data",
          "data": {
            "text/plain": [
              "<Figure size 640x480 with 1 Axes>"
            ],
            "image/png": "[encoded data removed]"
          },
          "metadata": {}
        }
      ]
    },
    {
      "cell_type": "code",
      "source": [
        "sns.barplot(data=datos, x=\"tienda_de_videos\", hue=\"miembro\")"
      ],
      "metadata": {
        "colab": {
          "base_uri": "https://localhost:8080/",
          "height": 467
        },
        "id": "RjDDmPf-Wt-y",
        "outputId": "7811e20c-cf4a-4cf6-8b96-e13a19b7aebc"
      },
      "execution_count": null,
      "outputs": [
        {
          "output_type": "execute_result",
          "data": {
            "text/plain": [
              "<Axes: xlabel='tienda_de_videos'>"
            ]
          },
          "metadata": {},
          "execution_count": 174
        },
        {
          "output_type": "display_data",
          "data": {
            "text/plain": [
              "<Figure size 640x480 with 1 Axes>"
            ],
            "image/png": "[encoded data removed]"
          },
          "metadata": {}
        }
      ]
    },
    {
      "cell_type": "code",
      "source": [
        "sns.barplot(data=datos, x=\"ingreso_anual\", y='ocupacion', hue='miembro')"
      ],
      "metadata": {
        "colab": {
          "base_uri": "https://localhost:8080/",
          "height": 472
        },
        "id": "zVgPWoZYZG02",
        "outputId": "fb273490-7f0c-4f98-b102-3342aae79e26"
      },
      "execution_count": null,
      "outputs": [
        {
          "output_type": "execute_result",
          "data": {
            "text/plain": [
              "<Axes: xlabel='ingreso_anual', ylabel='ocupacion'>"
            ]
          },
          "metadata": {},
          "execution_count": 9
        },
        {
          "output_type": "display_data",
          "data": {
            "text/plain": [
              "<Figure size 640x480 with 1 Axes>"
            ],
            "image/png": "[encoded data removed]"
          },
          "metadata": {}
        }
      ]
    },
    {
      "cell_type": "code",
      "source": [
        "sns.barplot(data=datos, x=\"costo\", y='miembro',hue='tipo')"
      ],
      "metadata": {
        "colab": {
          "base_uri": "https://localhost:8080/",
          "height": 466
        },
        "id": "Kn_-DfH0Aov_",
        "outputId": "263ac020-739c-4302-f1de-b1a74bf2c513"
      },
      "execution_count": null,
      "outputs": [
        {
          "output_type": "execute_result",
          "data": {
            "text/plain": [
              "<Axes: xlabel='costo', ylabel='miembro'>"
            ]
          },
          "metadata": {},
          "execution_count": 8
        },
        {
          "output_type": "display_data",
          "data": {
            "text/plain": [
              "<Figure size 640x480 with 1 Axes>"
            ],
            "image/png": "[encoded data removed]"
          },
          "metadata": {}
        }
      ]
    },
    {
      "cell_type": "code",
      "source": [
        "ax=sns.barplot(data=datos, x=\"total_de_hijos\", y=\"miembro\", hue='estado_civil')\n",
        "ax.bar_label(ax.containers[0], fontsize=10)\n",
        "ax.bar_label(ax.containers[1], fontsize=10)"
      ],
      "metadata": {
        "colab": {
          "base_uri": "https://localhost:8080/",
          "height": 519
        },
        "id": "FWZoQK5uBY_y",
        "outputId": "59076844-68b3-479c-ada3-3ef959c6f956"
      },
      "execution_count": null,
      "outputs": [
        {
          "output_type": "execute_result",
          "data": {
            "text/plain": [
              "[Text(0, 0, '2.41433'),\n",
              " Text(0, 0, '2.52571'),\n",
              " Text(0, 0, '2.47808'),\n",
              " Text(0, 0, '2.69946')]"
            ]
          },
          "metadata": {},
          "execution_count": 10
        },
        {
          "output_type": "display_data",
          "data": {
            "text/plain": [
              "<Figure size 640x480 with 1 Axes>"
            ],
            "image/png": "[encoded data removed]"
          },
          "metadata": {}
        }
      ]
    },
    {
      "cell_type": "markdown",
      "source": [
        "#5 **Preprocesamiento y features**\n",
        "\n",
        "Las variables seleccionadas como factibles fueron:\n",
        "miembro, estado civil, genero,grado academico, ingreso anual, tipo, ocupación\n",
        "\n",
        "\n",
        "De las cuales algunas variables se iban a codificar: miembro, estado civil, grado academico, ingreso anual, tipo, ocupación"
      ],
      "metadata": {
        "id": "RxXIPLmNv3De"
      }
    },
    {
      "cell_type": "code",
      "source": [
        "print(datos['miembro'].unique().tolist())\n",
        "print(datos['estado_civil'].unique().tolist())\n",
        "print(datos['genero'].unique().tolist())\n",
        "print(datos['escolaridad'].unique().tolist())\n",
        "print(datos['ingreso_anual'].unique().tolist())\n",
        "print(datos['tipo'].unique().tolist())\n",
        "print(datos['ocupacion'].unique().tolist())"
      ],
      "metadata": {
        "id": "sWBktIr1FC8_",
        "colab": {
          "base_uri": "https://localhost:8080/"
        },
        "outputId": "ed220f57-f0bd-4a91-eff9-453d1de6821b"
      },
      "execution_count": null,
      "outputs": [
        {
          "output_type": "stream",
          "name": "stdout",
          "text": [
            "['Normal', 'Silver', 'Bronze', 'Golden']\n",
            "['Casado', 'Soltero']\n",
            "['Femenino', 'Masculino']\n",
            "['Partial High School', 'Bachelors Degree', 'High School Degree', 'Graduate Degree', 'Partial College']\n",
            "['$10K - $30K', '$50K - $70K', '$30K - $50K', '$70K - $90K', '$110K - $130K', '$130K - $150K', '$150K +', '$90K - $110K']\n",
            "['Comida', 'No comestible', 'Bebida']\n",
            "['Skilled Manual', 'Professional', 'Manual', 'Management', 'Clerical']\n"
          ]
        }
      ]
    },
    {
      "cell_type": "markdown",
      "source": [
        "Luego de saber que tan compleja se harián las codificaciones y convirtiendo por medio de diccionarios los valores categoricos a númericos."
      ],
      "metadata": {
        "id": "ZSnr9hwJycWB"
      }
    },
    {
      "cell_type": "code",
      "source": [
        "miembro_cod={'Normal':0, 'Silver':1, 'Bronze':2, 'Golden':3}\n",
        "estado_civil_cod={'Casado':1, 'Soltero':0}\n",
        "genero_cod={'Femenino':1, 'Masculino':0}\n",
        "escolaridad_cod={'Partial High School':0, 'Bachelors Degree':1, 'High School Degree':2, 'Graduate Degree':3, 'Partial College':4}\n",
        "ingreso_cod={'$10K - $30K':1, '$50K - $70K':2, '$30K - $50K':3, '$70K - $90K':4, '$110K - $130K':6, '$130K - $150K':7, '$150K +':8, '$90K - $110K':5}\n",
        "tipo_cod={'Comida':1, 'No comestible':2, 'Bebida':3}\n",
        "ocupacion_cod={'Skilled Manual':1, 'Professional':2, 'Manual':3, 'Management':4, 'Clerical':5}\n",
        "pais_cod={'Estados Unidos':1, 'Mexico':3, 'Canada':2}\n",
        "vivienda_propia={'Y':1, 'N':0}"
      ],
      "metadata": {
        "id": "rX82iciHxHsk"
      },
      "execution_count": null,
      "outputs": []
    },
    {
      "cell_type": "code",
      "source": [
        "df_seleccionados=datos[['pais','cafeteria', 'tienda_de_videos', 'barra_de_ensaladas', 'comida_preparada', 'floristeria']]"
      ],
      "metadata": {
        "id": "M8_9xYkE62Fk"
      },
      "execution_count": null,
      "outputs": []
    },
    {
      "cell_type": "code",
      "source": [
        "#df_seleccionados['miembro']= df_seleccionados['miembro'].map(miembro_cod)\n",
        "#df_seleccionados['estado_civil']= df_seleccionados['estado_civil'].map(estado_civil_cod)\n",
        "#df_seleccionados['genero']= df_seleccionados['genero'].map(genero_cod)\n",
        "#f_seleccionados['escolaridad']= df_seleccionados['escolaridad'].map(escolaridad_cod)\n",
        "#df_seleccionados['ingreso_anual']= df_seleccionados['ingreso_anual'].map(ingreso_cod)\n",
        "#df_seleccionados['tipo']= df_seleccionados['tipo'].map(tipo_cod)\n",
        "#df_seleccionados['ocupacion']= df_seleccionados['ocupacion'].map(ocupacion_cod)\n",
        "df_seleccionados['pais']= df_seleccionados['pais'].map(pais_cod)\n",
        "#df_seleccionados['vivienda_propia']= df_seleccionados['vivienda_propia'].map(vivienda_propia)\n",
        "\n",
        "datos_codificados=df_seleccionados\n",
        "df_seleccionados.head()"
      ],
      "metadata": {
        "id": "V5E3bKTqxEy8",
        "colab": {
          "base_uri": "https://localhost:8080/",
          "height": 310
        },
        "outputId": "c33d7d81-3dd3-405d-fea8-c231f04c3ecc"
      },
      "execution_count": null,
      "outputs": [
        {
          "output_type": "stream",
          "name": "stderr",
          "text": [
            "<ipython-input-270-07807265d166>:8: SettingWithCopyWarning: \n",
            "A value is trying to be set on a copy of a slice from a DataFrame.\n",
            "Try using .loc[row_indexer,col_indexer] = value instead\n",
            "\n",
            "See the caveats in the documentation: https://pandas.pydata.org/pandas-docs/stable/user_guide/indexing.html#returning-a-view-versus-a-copy\n",
            "  df_seleccionados['pais']= df_seleccionados['pais'].map(pais_cod)\n"
          ]
        },
        {
          "output_type": "execute_result",
          "data": {
            "text/plain": [
              "   pais  cafeteria  tienda_de_videos  barra_de_ensaladas  comida_preparada  \\\n",
              "0     1        1.0               1.0                 1.0               1.0   \n",
              "1     1        1.0               1.0                 1.0               1.0   \n",
              "2     1        1.0               1.0                 1.0               1.0   \n",
              "3     1        1.0               1.0                 1.0               1.0   \n",
              "4     1        1.0               1.0                 1.0               1.0   \n",
              "\n",
              "   floristeria  \n",
              "0          1.0  \n",
              "1          1.0  \n",
              "2          1.0  \n",
              "3          1.0  \n",
              "4          1.0  "
            ],
            "text/html": [
              "\n",
              "  <div id=\"df-6f17801c-9a8a-45d6-9aae-caad8e17de71\" class=\"colab-df-container\">\n",
              "    <div>\n",
              "<style scoped>\n",
              "    .dataframe tbody tr th:only-of-type {\n",
              "        vertical-align: middle;\n",
              "    }\n",
              "\n",
              "    .dataframe tbody tr th {\n",
              "        vertical-align: top;\n",
              "    }\n",
              "\n",
              "    .dataframe thead th {\n",
              "        text-align: right;\n",
              "    }\n",
              "</style>\n",
              "<table border=\"1\" class=\"dataframe\">\n",
              "  <thead>\n",
              "    <tr style=\"text-align: right;\">\n",
              "      <th></th>\n",
              "      <th>pais</th>\n",
              "      <th>cafeteria</th>\n",
              "      <th>tienda_de_videos</th>\n",
              "      <th>barra_de_ensaladas</th>\n",
              "      <th>comida_preparada</th>\n",
              "      <th>floristeria</th>\n",
              "    </tr>\n",
              "  </thead>\n",
              "  <tbody>\n",
              "    <tr>\n",
              "      <th>0</th>\n",
              "      <td>1</td>\n",
              "      <td>1.0</td>\n",
              "      <td>1.0</td>\n",
              "      <td>1.0</td>\n",
              "      <td>1.0</td>\n",
              "      <td>1.0</td>\n",
              "    </tr>\n",
              "    <tr>\n",
              "      <th>1</th>\n",
              "      <td>1</td>\n",
              "      <td>1.0</td>\n",
              "      <td>1.0</td>\n",
              "      <td>1.0</td>\n",
              "      <td>1.0</td>\n",
              "      <td>1.0</td>\n",
              "    </tr>\n",
              "    <tr>\n",
              "      <th>2</th>\n",
              "      <td>1</td>\n",
              "      <td>1.0</td>\n",
              "      <td>1.0</td>\n",
              "      <td>1.0</td>\n",
              "      <td>1.0</td>\n",
              "      <td>1.0</td>\n",
              "    </tr>\n",
              "    <tr>\n",
              "      <th>3</th>\n",
              "      <td>1</td>\n",
              "      <td>1.0</td>\n",
              "      <td>1.0</td>\n",
              "      <td>1.0</td>\n",
              "      <td>1.0</td>\n",
              "      <td>1.0</td>\n",
              "    </tr>\n",
              "    <tr>\n",
              "      <th>4</th>\n",
              "      <td>1</td>\n",
              "      <td>1.0</td>\n",
              "      <td>1.0</td>\n",
              "      <td>1.0</td>\n",
              "      <td>1.0</td>\n",
              "      <td>1.0</td>\n",
              "    </tr>\n",
              "  </tbody>\n",
              "</table>\n",
              "</div>\n",
              "    <div class=\"colab-df-buttons\">\n",
              "\n",
              "  <div class=\"colab-df-container\">\n",
              "    <button class=\"colab-df-convert\" onclick=\"convertToInteractive('df-6f17801c-9a8a-45d6-9aae-caad8e17de71')\"\n",
              "            title=\"Convert this dataframe to an interactive table.\"\n",
              "            style=\"display:none;\">\n",
              "\n",
              "  <svg xmlns=\"http://www.w3.org/2000/svg\" height=\"24px\" viewBox=\"0 -960 960 960\">\n",
              "    <path d=\"M120-120v-720h720v720H120Zm60-500h600v-160H180v160Zm220 220h160v-160H400v160Zm0 220h160v-160H400v160ZM180-400h160v-160H180v160Zm440 0h160v-160H620v160ZM180-180h160v-160H180v160Zm440 0h160v-160H620v160Z\"/>\n",
              "  </svg>\n",
              "    </button>\n",
              "\n",
              "  <style>\n",
              "    .colab-df-container {\n",
              "      display:flex;\n",
              "      gap: 12px;\n",
              "    }\n",
              "\n",
              "    .colab-df-convert {\n",
              "      background-color: #E8F0FE;\n",
              "      border: none;\n",
              "      border-radius: 50%;\n",
              "      cursor: pointer;\n",
              "      display: none;\n",
              "      fill: #1967D2;\n",
              "      height: 32px;\n",
              "      padding: 0 0 0 0;\n",
              "      width: 32px;\n",
              "    }\n",
              "\n",
              "    .colab-df-convert:hover {\n",
              "      background-color: #E2EBFA;\n",
              "      box-shadow: 0px 1px 2px rgba(60, 64, 67, 0.3), 0px 1px 3px 1px rgba(60, 64, 67, 0.15);\n",
              "      fill: #174EA6;\n",
              "    }\n",
              "\n",
              "    .colab-df-buttons div {\n",
              "      margin-bottom: 4px;\n",
              "    }\n",
              "\n",
              "    [theme=dark] .colab-df-convert {\n",
              "      background-color: #3B4455;\n",
              "      fill: #D2E3FC;\n",
              "    }\n",
              "\n",
              "    [theme=dark] .colab-df-convert:hover {\n",
              "      background-color: #434B5C;\n",
              "      box-shadow: 0px 1px 3px 1px rgba(0, 0, 0, 0.15);\n",
              "      filter: drop-shadow(0px 1px 2px rgba(0, 0, 0, 0.3));\n",
              "      fill: #FFFFFF;\n",
              "    }\n",
              "  </style>\n",
              "\n",
              "    <script>\n",
              "      const buttonEl =\n",
              "        document.querySelector('#df-6f17801c-9a8a-45d6-9aae-caad8e17de71 button.colab-df-convert');\n",
              "      buttonEl.style.display =\n",
              "        google.colab.kernel.accessAllowed ? 'block' : 'none';\n",
              "\n",
              "      async function convertToInteractive(key) {\n",
              "        const element = document.querySelector('#df-6f17801c-9a8a-45d6-9aae-caad8e17de71');\n",
              "        const dataTable =\n",
              "          await google.colab.kernel.invokeFunction('convertToInteractive',\n",
              "                                                    [key], {});\n",
              "        if (!dataTable) return;\n",
              "\n",
              "        const docLinkHtml = 'Like what you see? Visit the ' +\n",
              "          '<a target=\"_blank\" href=https://colab.research.google.com/notebooks/data_table.ipynb>data table notebook</a>'\n",
              "          + ' to learn more about interactive tables.';\n",
              "        element.innerHTML = '';\n",
              "        dataTable['output_type'] = 'display_data';\n",
              "        await google.colab.output.renderOutput(dataTable, element);\n",
              "        const docLink = document.createElement('div');\n",
              "        docLink.innerHTML = docLinkHtml;\n",
              "        element.appendChild(docLink);\n",
              "      }\n",
              "    </script>\n",
              "  </div>\n",
              "\n",
              "\n",
              "<div id=\"df-a5684b57-58e3-4155-9dd4-44958fd530c0\">\n",
              "  <button class=\"colab-df-quickchart\" onclick=\"quickchart('df-a5684b57-58e3-4155-9dd4-44958fd530c0')\"\n",
              "            title=\"Suggest charts\"\n",
              "            style=\"display:none;\">\n",
              "\n",
              "<svg xmlns=\"http://www.w3.org/2000/svg\" height=\"24px\"viewBox=\"0 0 24 24\"\n",
              "     width=\"24px\">\n",
              "    <g>\n",
              "        <path d=\"M19 3H5c-1.1 0-2 .9-2 2v14c0 1.1.9 2 2 2h14c1.1 0 2-.9 2-2V5c0-1.1-.9-2-2-2zM9 17H7v-7h2v7zm4 0h-2V7h2v10zm4 0h-2v-4h2v4z\"/>\n",
              "    </g>\n",
              "</svg>\n",
              "  </button>\n",
              "\n",
              "<style>\n",
              "  .colab-df-quickchart {\n",
              "      --bg-color: #E8F0FE;\n",
              "      --fill-color: #1967D2;\n",
              "      --hover-bg-color: #E2EBFA;\n",
              "      --hover-fill-color: #174EA6;\n",
              "      --disabled-fill-color: #AAA;\n",
              "      --disabled-bg-color: #DDD;\n",
              "  }\n",
              "\n",
              "  [theme=dark] .colab-df-quickchart {\n",
              "      --bg-color: #3B4455;\n",
              "      --fill-color: #D2E3FC;\n",
              "      --hover-bg-color: #434B5C;\n",
              "      --hover-fill-color: #FFFFFF;\n",
              "      --disabled-bg-color: #3B4455;\n",
              "      --disabled-fill-color: #666;\n",
              "  }\n",
              "\n",
              "  .colab-df-quickchart {\n",
              "    background-color: var(--bg-color);\n",
              "    border: none;\n",
              "    border-radius: 50%;\n",
              "    cursor: pointer;\n",
              "    display: none;\n",
              "    fill: var(--fill-color);\n",
              "    height: 32px;\n",
              "    padding: 0;\n",
              "    width: 32px;\n",
              "  }\n",
              "\n",
              "  .colab-df-quickchart:hover {\n",
              "    background-color: var(--hover-bg-color);\n",
              "    box-shadow: 0 1px 2px rgba(60, 64, 67, 0.3), 0 1px 3px 1px rgba(60, 64, 67, 0.15);\n",
              "    fill: var(--button-hover-fill-color);\n",
              "  }\n",
              "\n",
              "  .colab-df-quickchart-complete:disabled,\n",
              "  .colab-df-quickchart-complete:disabled:hover {\n",
              "    background-color: var(--disabled-bg-color);\n",
              "    fill: var(--disabled-fill-color);\n",
              "    box-shadow: none;\n",
              "  }\n",
              "\n",
              "  .colab-df-spinner {\n",
              "    border: 2px solid var(--fill-color);\n",
              "    border-color: transparent;\n",
              "    border-bottom-color: var(--fill-color);\n",
              "    animation:\n",
              "      spin 1s steps(1) infinite;\n",
              "  }\n",
              "\n",
              "  @keyframes spin {\n",
              "    0% {\n",
              "      border-color: transparent;\n",
              "      border-bottom-color: var(--fill-color);\n",
              "      border-left-color: var(--fill-color);\n",
              "    }\n",
              "    20% {\n",
              "      border-color: transparent;\n",
              "      border-left-color: var(--fill-color);\n",
              "      border-top-color: var(--fill-color);\n",
              "    }\n",
              "    30% {\n",
              "      border-color: transparent;\n",
              "      border-left-color: var(--fill-color);\n",
              "      border-top-color: var(--fill-color);\n",
              "      border-right-color: var(--fill-color);\n",
              "    }\n",
              "    40% {\n",
              "      border-color: transparent;\n",
              "      border-right-color: var(--fill-color);\n",
              "      border-top-color: var(--fill-color);\n",
              "    }\n",
              "    60% {\n",
              "      border-color: transparent;\n",
              "      border-right-color: var(--fill-color);\n",
              "    }\n",
              "    80% {\n",
              "      border-color: transparent;\n",
              "      border-right-color: var(--fill-color);\n",
              "      border-bottom-color: var(--fill-color);\n",
              "    }\n",
              "    90% {\n",
              "      border-color: transparent;\n",
              "      border-bottom-color: var(--fill-color);\n",
              "    }\n",
              "  }\n",
              "</style>\n",
              "\n",
              "  <script>\n",
              "    async function quickchart(key) {\n",
              "      const quickchartButtonEl =\n",
              "        document.querySelector('#' + key + ' button');\n",
              "      quickchartButtonEl.disabled = true;  // To prevent multiple clicks.\n",
              "      quickchartButtonEl.classList.add('colab-df-spinner');\n",
              "      try {\n",
              "        const charts = await google.colab.kernel.invokeFunction(\n",
              "            'suggestCharts', [key], {});\n",
              "      } catch (error) {\n",
              "        console.error('Error during call to suggestCharts:', error);\n",
              "      }\n",
              "      quickchartButtonEl.classList.remove('colab-df-spinner');\n",
              "      quickchartButtonEl.classList.add('colab-df-quickchart-complete');\n",
              "    }\n",
              "    (() => {\n",
              "      let quickchartButtonEl =\n",
              "        document.querySelector('#df-a5684b57-58e3-4155-9dd4-44958fd530c0 button');\n",
              "      quickchartButtonEl.style.display =\n",
              "        google.colab.kernel.accessAllowed ? 'block' : 'none';\n",
              "    })();\n",
              "  </script>\n",
              "</div>\n",
              "\n",
              "    </div>\n",
              "  </div>\n"
            ],
            "application/vnd.google.colaboratory.intrinsic+json": {
              "type": "dataframe",
              "variable_name": "df_seleccionados",
              "summary": "{\n  \"name\": \"df_seleccionados\",\n  \"rows\": 60428,\n  \"fields\": [\n    {\n      \"column\": \"pais\",\n      \"properties\": {\n        \"dtype\": \"number\",\n        \"std\": 0,\n        \"min\": 1,\n        \"max\": 3,\n        \"num_unique_values\": 3,\n        \"samples\": [\n          1,\n          3,\n          2\n        ],\n        \"semantic_type\": \"\",\n        \"description\": \"\"\n      }\n    },\n    {\n      \"column\": \"cafeteria\",\n      \"properties\": {\n        \"dtype\": \"number\",\n        \"std\": 0.48714956978569945,\n        \"min\": 0.0,\n        \"max\": 1.0,\n        \"num_unique_values\": 2,\n        \"samples\": [\n          0.0,\n          1.0\n        ],\n        \"semantic_type\": \"\",\n        \"description\": \"\"\n      }\n    },\n    {\n      \"column\": \"tienda_de_videos\",\n      \"properties\": {\n        \"dtype\": \"number\",\n        \"std\": 0.4782610254426347,\n        \"min\": 0.0,\n        \"max\": 1.0,\n        \"num_unique_values\": 2,\n        \"samples\": [\n          0.0,\n          1.0\n        ],\n        \"semantic_type\": \"\",\n        \"description\": \"\"\n      }\n    },\n    {\n      \"column\": \"barra_de_ensaladas\",\n      \"properties\": {\n        \"dtype\": \"number\",\n        \"std\": 0.49220703601810384,\n        \"min\": 0.0,\n        \"max\": 1.0,\n        \"num_unique_values\": 2,\n        \"samples\": [\n          0.0,\n          1.0\n        ],\n        \"semantic_type\": \"\",\n        \"description\": \"\"\n      }\n    },\n    {\n      \"column\": \"comida_preparada\",\n      \"properties\": {\n        \"dtype\": \"number\",\n        \"std\": 0.49220703601810384,\n        \"min\": 0.0,\n        \"max\": 1.0,\n        \"num_unique_values\": 2,\n        \"samples\": [\n          0.0,\n          1.0\n        ],\n        \"semantic_type\": \"\",\n        \"description\": \"\"\n      }\n    },\n    {\n      \"column\": \"floristeria\",\n      \"properties\": {\n        \"dtype\": \"number\",\n        \"std\": 0.4960694337070098,\n        \"min\": 0.0,\n        \"max\": 1.0,\n        \"num_unique_values\": 2,\n        \"samples\": [\n          0.0,\n          1.0\n        ],\n        \"semantic_type\": \"\",\n        \"description\": \"\"\n      }\n    }\n  ]\n}"
            }
          },
          "metadata": {},
          "execution_count": 270
        }
      ]
    },
    {
      "cell_type": "code",
      "source": [
        "df_seleccionados.corr()\n",
        "#Miemro, ingreso, escolaridad, pais: se llevan bien\n"
      ],
      "metadata": {
        "colab": {
          "base_uri": "https://localhost:8080/",
          "height": 238
        },
        "id": "Kl_xVfqUW5D1",
        "outputId": "529d85ce-210e-436f-888c-3e019ca381f0"
      },
      "execution_count": null,
      "outputs": [
        {
          "output_type": "execute_result",
          "data": {
            "text/plain": [
              "                        pais  cafeteria  tienda_de_videos  barra_de_ensaladas  \\\n",
              "pais                1.000000   0.089182          0.242595            0.265706   \n",
              "cafeteria           0.089182   1.000000          0.588821            0.530764   \n",
              "tienda_de_videos    0.242595   0.588821          1.000000            0.619918   \n",
              "barra_de_ensaladas  0.265706   0.530764          0.619918            1.000000   \n",
              "comida_preparada    0.265706   0.530764          0.619918            1.000000   \n",
              "floristeria         0.127578   0.630623          0.652937            0.641725   \n",
              "\n",
              "                    comida_preparada  floristeria  \n",
              "pais                        0.265706     0.127578  \n",
              "cafeteria                   0.530764     0.630623  \n",
              "tienda_de_videos            0.619918     0.652937  \n",
              "barra_de_ensaladas          1.000000     0.641725  \n",
              "comida_preparada            1.000000     0.641725  \n",
              "floristeria                 0.641725     1.000000  "
            ],
            "text/html": [
              "\n",
              "  <div id=\"df-fc3ebbb1-5efd-466a-8bbf-5152a8f6cdcd\" class=\"colab-df-container\">\n",
              "    <div>\n",
              "<style scoped>\n",
              "    .dataframe tbody tr th:only-of-type {\n",
              "        vertical-align: middle;\n",
              "    }\n",
              "\n",
              "    .dataframe tbody tr th {\n",
              "        vertical-align: top;\n",
              "    }\n",
              "\n",
              "    .dataframe thead th {\n",
              "        text-align: right;\n",
              "    }\n",
              "</style>\n",
              "<table border=\"1\" class=\"dataframe\">\n",
              "  <thead>\n",
              "    <tr style=\"text-align: right;\">\n",
              "      <th></th>\n",
              "      <th>pais</th>\n",
              "      <th>cafeteria</th>\n",
              "      <th>tienda_de_videos</th>\n",
              "      <th>barra_de_ensaladas</th>\n",
              "      <th>comida_preparada</th>\n",
              "      <th>floristeria</th>\n",
              "    </tr>\n",
              "  </thead>\n",
              "  <tbody>\n",
              "    <tr>\n",
              "      <th>pais</th>\n",
              "      <td>1.000000</td>\n",
              "      <td>0.089182</td>\n",
              "      <td>0.242595</td>\n",
              "      <td>0.265706</td>\n",
              "      <td>0.265706</td>\n",
              "      <td>0.127578</td>\n",
              "    </tr>\n",
              "    <tr>\n",
              "      <th>cafeteria</th>\n",
              "      <td>0.089182</td>\n",
              "      <td>1.000000</td>\n",
              "      <td>0.588821</td>\n",
              "      <td>0.530764</td>\n",
              "      <td>0.530764</td>\n",
              "      <td>0.630623</td>\n",
              "    </tr>\n",
              "    <tr>\n",
              "      <th>tienda_de_videos</th>\n",
              "      <td>0.242595</td>\n",
              "      <td>0.588821</td>\n",
              "      <td>1.000000</td>\n",
              "      <td>0.619918</td>\n",
              "      <td>0.619918</td>\n",
              "      <td>0.652937</td>\n",
              "    </tr>\n",
              "    <tr>\n",
              "      <th>barra_de_ensaladas</th>\n",
              "      <td>0.265706</td>\n",
              "      <td>0.530764</td>\n",
              "      <td>0.619918</td>\n",
              "      <td>1.000000</td>\n",
              "      <td>1.000000</td>\n",
              "      <td>0.641725</td>\n",
              "    </tr>\n",
              "    <tr>\n",
              "      <th>comida_preparada</th>\n",
              "      <td>0.265706</td>\n",
              "      <td>0.530764</td>\n",
              "      <td>0.619918</td>\n",
              "      <td>1.000000</td>\n",
              "      <td>1.000000</td>\n",
              "      <td>0.641725</td>\n",
              "    </tr>\n",
              "    <tr>\n",
              "      <th>floristeria</th>\n",
              "      <td>0.127578</td>\n",
              "      <td>0.630623</td>\n",
              "      <td>0.652937</td>\n",
              "      <td>0.641725</td>\n",
              "      <td>0.641725</td>\n",
              "      <td>1.000000</td>\n",
              "    </tr>\n",
              "  </tbody>\n",
              "</table>\n",
              "</div>\n",
              "    <div class=\"colab-df-buttons\">\n",
              "\n",
              "  <div class=\"colab-df-container\">\n",
              "    <button class=\"colab-df-convert\" onclick=\"convertToInteractive('df-fc3ebbb1-5efd-466a-8bbf-5152a8f6cdcd')\"\n",
              "            title=\"Convert this dataframe to an interactive table.\"\n",
              "            style=\"display:none;\">\n",
              "\n",
              "  <svg xmlns=\"http://www.w3.org/2000/svg\" height=\"24px\" viewBox=\"0 -960 960 960\">\n",
              "    <path d=\"M120-120v-720h720v720H120Zm60-500h600v-160H180v160Zm220 220h160v-160H400v160Zm0 220h160v-160H400v160ZM180-400h160v-160H180v160Zm440 0h160v-160H620v160ZM180-180h160v-160H180v160Zm440 0h160v-160H620v160Z\"/>\n",
              "  </svg>\n",
              "    </button>\n",
              "\n",
              "  <style>\n",
              "    .colab-df-container {\n",
              "      display:flex;\n",
              "      gap: 12px;\n",
              "    }\n",
              "\n",
              "    .colab-df-convert {\n",
              "      background-color: #E8F0FE;\n",
              "      border: none;\n",
              "      border-radius: 50%;\n",
              "      cursor: pointer;\n",
              "      display: none;\n",
              "      fill: #1967D2;\n",
              "      height: 32px;\n",
              "      padding: 0 0 0 0;\n",
              "      width: 32px;\n",
              "    }\n",
              "\n",
              "    .colab-df-convert:hover {\n",
              "      background-color: #E2EBFA;\n",
              "      box-shadow: 0px 1px 2px rgba(60, 64, 67, 0.3), 0px 1px 3px 1px rgba(60, 64, 67, 0.15);\n",
              "      fill: #174EA6;\n",
              "    }\n",
              "\n",
              "    .colab-df-buttons div {\n",
              "      margin-bottom: 4px;\n",
              "    }\n",
              "\n",
              "    [theme=dark] .colab-df-convert {\n",
              "      background-color: #3B4455;\n",
              "      fill: #D2E3FC;\n",
              "    }\n",
              "\n",
              "    [theme=dark] .colab-df-convert:hover {\n",
              "      background-color: #434B5C;\n",
              "      box-shadow: 0px 1px 3px 1px rgba(0, 0, 0, 0.15);\n",
              "      filter: drop-shadow(0px 1px 2px rgba(0, 0, 0, 0.3));\n",
              "      fill: #FFFFFF;\n",
              "    }\n",
              "  </style>\n",
              "\n",
              "    <script>\n",
              "      const buttonEl =\n",
              "        document.querySelector('#df-fc3ebbb1-5efd-466a-8bbf-5152a8f6cdcd button.colab-df-convert');\n",
              "      buttonEl.style.display =\n",
              "        google.colab.kernel.accessAllowed ? 'block' : 'none';\n",
              "\n",
              "      async function convertToInteractive(key) {\n",
              "        const element = document.querySelector('#df-fc3ebbb1-5efd-466a-8bbf-5152a8f6cdcd');\n",
              "        const dataTable =\n",
              "          await google.colab.kernel.invokeFunction('convertToInteractive',\n",
              "                                                    [key], {});\n",
              "        if (!dataTable) return;\n",
              "\n",
              "        const docLinkHtml = 'Like what you see? Visit the ' +\n",
              "          '<a target=\"_blank\" href=https://colab.research.google.com/notebooks/data_table.ipynb>data table notebook</a>'\n",
              "          + ' to learn more about interactive tables.';\n",
              "        element.innerHTML = '';\n",
              "        dataTable['output_type'] = 'display_data';\n",
              "        await google.colab.output.renderOutput(dataTable, element);\n",
              "        const docLink = document.createElement('div');\n",
              "        docLink.innerHTML = docLinkHtml;\n",
              "        element.appendChild(docLink);\n",
              "      }\n",
              "    </script>\n",
              "  </div>\n",
              "\n",
              "\n",
              "<div id=\"df-11e9d196-d0e3-4baf-bed6-509c50b50067\">\n",
              "  <button class=\"colab-df-quickchart\" onclick=\"quickchart('df-11e9d196-d0e3-4baf-bed6-509c50b50067')\"\n",
              "            title=\"Suggest charts\"\n",
              "            style=\"display:none;\">\n",
              "\n",
              "<svg xmlns=\"http://www.w3.org/2000/svg\" height=\"24px\"viewBox=\"0 0 24 24\"\n",
              "     width=\"24px\">\n",
              "    <g>\n",
              "        <path d=\"M19 3H5c-1.1 0-2 .9-2 2v14c0 1.1.9 2 2 2h14c1.1 0 2-.9 2-2V5c0-1.1-.9-2-2-2zM9 17H7v-7h2v7zm4 0h-2V7h2v10zm4 0h-2v-4h2v4z\"/>\n",
              "    </g>\n",
              "</svg>\n",
              "  </button>\n",
              "\n",
              "<style>\n",
              "  .colab-df-quickchart {\n",
              "      --bg-color: #E8F0FE;\n",
              "      --fill-color: #1967D2;\n",
              "      --hover-bg-color: #E2EBFA;\n",
              "      --hover-fill-color: #174EA6;\n",
              "      --disabled-fill-color: #AAA;\n",
              "      --disabled-bg-color: #DDD;\n",
              "  }\n",
              "\n",
              "  [theme=dark] .colab-df-quickchart {\n",
              "      --bg-color: #3B4455;\n",
              "      --fill-color: #D2E3FC;\n",
              "      --hover-bg-color: #434B5C;\n",
              "      --hover-fill-color: #FFFFFF;\n",
              "      --disabled-bg-color: #3B4455;\n",
              "      --disabled-fill-color: #666;\n",
              "  }\n",
              "\n",
              "  .colab-df-quickchart {\n",
              "    background-color: var(--bg-color);\n",
              "    border: none;\n",
              "    border-radius: 50%;\n",
              "    cursor: pointer;\n",
              "    display: none;\n",
              "    fill: var(--fill-color);\n",
              "    height: 32px;\n",
              "    padding: 0;\n",
              "    width: 32px;\n",
              "  }\n",
              "\n",
              "  .colab-df-quickchart:hover {\n",
              "    background-color: var(--hover-bg-color);\n",
              "    box-shadow: 0 1px 2px rgba(60, 64, 67, 0.3), 0 1px 3px 1px rgba(60, 64, 67, 0.15);\n",
              "    fill: var(--button-hover-fill-color);\n",
              "  }\n",
              "\n",
              "  .colab-df-quickchart-complete:disabled,\n",
              "  .colab-df-quickchart-complete:disabled:hover {\n",
              "    background-color: var(--disabled-bg-color);\n",
              "    fill: var(--disabled-fill-color);\n",
              "    box-shadow: none;\n",
              "  }\n",
              "\n",
              "  .colab-df-spinner {\n",
              "    border: 2px solid var(--fill-color);\n",
              "    border-color: transparent;\n",
              "    border-bottom-color: var(--fill-color);\n",
              "    animation:\n",
              "      spin 1s steps(1) infinite;\n",
              "  }\n",
              "\n",
              "  @keyframes spin {\n",
              "    0% {\n",
              "      border-color: transparent;\n",
              "      border-bottom-color: var(--fill-color);\n",
              "      border-left-color: var(--fill-color);\n",
              "    }\n",
              "    20% {\n",
              "      border-color: transparent;\n",
              "      border-left-color: var(--fill-color);\n",
              "      border-top-color: var(--fill-color);\n",
              "    }\n",
              "    30% {\n",
              "      border-color: transparent;\n",
              "      border-left-color: var(--fill-color);\n",
              "      border-top-color: var(--fill-color);\n",
              "      border-right-color: var(--fill-color);\n",
              "    }\n",
              "    40% {\n",
              "      border-color: transparent;\n",
              "      border-right-color: var(--fill-color);\n",
              "      border-top-color: var(--fill-color);\n",
              "    }\n",
              "    60% {\n",
              "      border-color: transparent;\n",
              "      border-right-color: var(--fill-color);\n",
              "    }\n",
              "    80% {\n",
              "      border-color: transparent;\n",
              "      border-right-color: var(--fill-color);\n",
              "      border-bottom-color: var(--fill-color);\n",
              "    }\n",
              "    90% {\n",
              "      border-color: transparent;\n",
              "      border-bottom-color: var(--fill-color);\n",
              "    }\n",
              "  }\n",
              "</style>\n",
              "\n",
              "  <script>\n",
              "    async function quickchart(key) {\n",
              "      const quickchartButtonEl =\n",
              "        document.querySelector('#' + key + ' button');\n",
              "      quickchartButtonEl.disabled = true;  // To prevent multiple clicks.\n",
              "      quickchartButtonEl.classList.add('colab-df-spinner');\n",
              "      try {\n",
              "        const charts = await google.colab.kernel.invokeFunction(\n",
              "            'suggestCharts', [key], {});\n",
              "      } catch (error) {\n",
              "        console.error('Error during call to suggestCharts:', error);\n",
              "      }\n",
              "      quickchartButtonEl.classList.remove('colab-df-spinner');\n",
              "      quickchartButtonEl.classList.add('colab-df-quickchart-complete');\n",
              "    }\n",
              "    (() => {\n",
              "      let quickchartButtonEl =\n",
              "        document.querySelector('#df-11e9d196-d0e3-4baf-bed6-509c50b50067 button');\n",
              "      quickchartButtonEl.style.display =\n",
              "        google.colab.kernel.accessAllowed ? 'block' : 'none';\n",
              "    })();\n",
              "  </script>\n",
              "</div>\n",
              "\n",
              "    </div>\n",
              "  </div>\n"
            ],
            "application/vnd.google.colaboratory.intrinsic+json": {
              "type": "dataframe",
              "summary": "{\n  \"name\": \"#Miemro, ingreso, escolaridad, pais: se llevan bien\",\n  \"rows\": 6,\n  \"fields\": [\n    {\n      \"column\": \"pais\",\n      \"properties\": {\n        \"dtype\": \"number\",\n        \"std\": 0.335784425402003,\n        \"min\": 0.08918172013232518,\n        \"max\": 1.0,\n        \"num_unique_values\": 5,\n        \"samples\": [\n          0.08918172013232518,\n          0.12757777800849013,\n          0.2425954088890311\n        ],\n        \"semantic_type\": \"\",\n        \"description\": \"\"\n      }\n    },\n    {\n      \"column\": \"cafeteria\",\n      \"properties\": {\n        \"dtype\": \"number\",\n        \"std\": 0.290785310367473,\n        \"min\": 0.08918172013232518,\n        \"max\": 1.0,\n        \"num_unique_values\": 5,\n        \"samples\": [\n          1.0,\n          0.6306232423019101,\n          0.5888209506059352\n        ],\n        \"semantic_type\": \"\",\n        \"description\": \"\"\n      }\n    },\n    {\n      \"column\": \"tienda_de_videos\",\n      \"properties\": {\n        \"dtype\": \"number\",\n        \"std\": 0.24036982434354204,\n        \"min\": 0.2425954088890311,\n        \"max\": 1.0,\n        \"num_unique_values\": 5,\n        \"samples\": [\n          0.5888209506059352,\n          0.6529365031784826,\n          1.0\n        ],\n        \"semantic_type\": \"\",\n        \"description\": \"\"\n      }\n    },\n    {\n      \"column\": \"barra_de_ensaladas\",\n      \"properties\": {\n        \"dtype\": \"number\",\n        \"std\": 0.2841499947892959,\n        \"min\": 0.2657059112292175,\n        \"max\": 1.0,\n        \"num_unique_values\": 5,\n        \"samples\": [\n          0.5307636953509495,\n          0.6417250367142759,\n          0.6199175191742508\n        ],\n        \"semantic_type\": \"\",\n        \"description\": \"\"\n      }\n    },\n    {\n      \"column\": \"comida_preparada\",\n      \"properties\": {\n        \"dtype\": \"number\",\n        \"std\": 0.2841499947892959,\n        \"min\": 0.2657059112292175,\n        \"max\": 1.0,\n        \"num_unique_values\": 5,\n        \"samples\": [\n          0.5307636953509495,\n          0.6417250367142759,\n          0.6199175191742508\n        ],\n        \"semantic_type\": \"\",\n        \"description\": \"\"\n      }\n    },\n    {\n      \"column\": \"floristeria\",\n      \"properties\": {\n        \"dtype\": \"number\",\n        \"std\": 0.2788955481771226,\n        \"min\": 0.12757777800849013,\n        \"max\": 1.0,\n        \"num_unique_values\": 5,\n        \"samples\": [\n          0.6306232423019101,\n          1.0,\n          0.6529365031784826\n        ],\n        \"semantic_type\": \"\",\n        \"description\": \"\"\n      }\n    }\n  ]\n}"
            }
          },
          "metadata": {},
          "execution_count": 380
        }
      ]
    },
    {
      "cell_type": "markdown",
      "source": [
        "Gracias a un análisis de correlación, fue posible obtener y determinar las variables con un mejor omportamiento entre si para definir los clusters."
      ],
      "metadata": {
        "id": "LvE8bNQH1jLz"
      }
    },
    {
      "cell_type": "code",
      "source": [
        "from sklearn.cluster import KMeans\n",
        "from sklearn.preprocessing import StandardScaler"
      ],
      "metadata": {
        "id": "mSMIbpQ_Gayi"
      },
      "execution_count": null,
      "outputs": []
    },
    {
      "cell_type": "markdown",
      "source": [
        "##Estandarización de datos seleccionados"
      ],
      "metadata": {
        "id": "2Z0mXu8S196Z"
      }
    },
    {
      "cell_type": "code",
      "source": [
        "scaler = StandardScaler()\n",
        "x_std=scaler.fit_transform(df_seleccionados[['pais','cafeteria', 'tienda_de_videos', 'barra_de_ensaladas', 'comida_preparada', 'floristeria']])"
      ],
      "metadata": {
        "id": "dqTy1Rl34M2R"
      },
      "execution_count": null,
      "outputs": []
    },
    {
      "cell_type": "code",
      "source": [
        "df_seleccionados"
      ],
      "metadata": {
        "id": "7M5XBpnHKFTr"
      },
      "execution_count": null,
      "outputs": []
    },
    {
      "cell_type": "code",
      "source": [
        "from sklearn.metrics import silhouette_score, calinski_harabasz_score, davies_bouldin_score\n",
        "# davies_bouldin_score presento problemas para su importación"
      ],
      "metadata": {
        "id": "YsOF7UV22Ucr"
      },
      "execution_count": null,
      "outputs": []
    },
    {
      "cell_type": "markdown",
      "source": [
        "##Revisar la inercia de los datos"
      ],
      "metadata": {
        "id": "gvxSAL9Q2DSa"
      }
    },
    {
      "cell_type": "code",
      "source": [
        "inercia=[]\n",
        "for i in range(2, 20):\n",
        "    kmeans = KMeans(n_clusters=i, random_state=123)\n",
        "    kmeans.fit(x_std)\n",
        "    inercia.append(kmeans.inertia_)\n",
        "inercia"
      ],
      "metadata": {
        "id": "kAPAtOB2dvyC"
      },
      "execution_count": null,
      "outputs": []
    },
    {
      "cell_type": "markdown",
      "source": [
        "##Evaluación por medio de los métricos Silhoutte y Calinski"
      ],
      "metadata": {
        "id": "SDkuczwZ2F9w"
      }
    },
    {
      "cell_type": "code",
      "source": [
        "metricas=[]\n",
        "\n",
        "for i in range(3, 11):\n",
        "    clusterer = KMeans(n_clusters=i, random_state=123)\n",
        "    clusterer.fit(x_std)\n",
        "\n",
        "    silhou = silhouette_score(x_std, clusterer.labels_)\n",
        "    #db=daviers_bouldin_score(x_std, clusterer.labels_)\n",
        "    ch=calinski_harabasz_score(x_std, clusterer.labels_)\n",
        "\n",
        "    metricas.append([i, silhou, ch])\n",
        "\n"
      ],
      "metadata": {
        "colab": {
          "base_uri": "https://localhost:8080/"
        },
        "id": "ePUk-9MR1OWr",
        "outputId": "8af8bf16-d2fc-495a-b2e8-279cc2bb87e5"
      },
      "execution_count": null,
      "outputs": [
        {
          "output_type": "stream",
          "name": "stderr",
          "text": [
            "/usr/local/lib/python3.10/dist-packages/sklearn/cluster/_kmeans.py:870: FutureWarning: The default value of `n_init` will change from 10 to 'auto' in 1.4. Set the value of `n_init` explicitly to suppress the warning\n",
            "  warnings.warn(\n",
            "/usr/local/lib/python3.10/dist-packages/sklearn/cluster/_kmeans.py:870: FutureWarning: The default value of `n_init` will change from 10 to 'auto' in 1.4. Set the value of `n_init` explicitly to suppress the warning\n",
            "  warnings.warn(\n",
            "/usr/local/lib/python3.10/dist-packages/sklearn/cluster/_kmeans.py:870: FutureWarning: The default value of `n_init` will change from 10 to 'auto' in 1.4. Set the value of `n_init` explicitly to suppress the warning\n",
            "  warnings.warn(\n",
            "/usr/local/lib/python3.10/dist-packages/sklearn/cluster/_kmeans.py:870: FutureWarning: The default value of `n_init` will change from 10 to 'auto' in 1.4. Set the value of `n_init` explicitly to suppress the warning\n",
            "  warnings.warn(\n",
            "/usr/local/lib/python3.10/dist-packages/sklearn/cluster/_kmeans.py:870: FutureWarning: The default value of `n_init` will change from 10 to 'auto' in 1.4. Set the value of `n_init` explicitly to suppress the warning\n",
            "  warnings.warn(\n",
            "/usr/local/lib/python3.10/dist-packages/sklearn/cluster/_kmeans.py:870: FutureWarning: The default value of `n_init` will change from 10 to 'auto' in 1.4. Set the value of `n_init` explicitly to suppress the warning\n",
            "  warnings.warn(\n",
            "/usr/local/lib/python3.10/dist-packages/sklearn/cluster/_kmeans.py:870: FutureWarning: The default value of `n_init` will change from 10 to 'auto' in 1.4. Set the value of `n_init` explicitly to suppress the warning\n",
            "  warnings.warn(\n",
            "/usr/local/lib/python3.10/dist-packages/sklearn/cluster/_kmeans.py:870: FutureWarning: The default value of `n_init` will change from 10 to 'auto' in 1.4. Set the value of `n_init` explicitly to suppress the warning\n",
            "  warnings.warn(\n"
          ]
        }
      ]
    },
    {
      "cell_type": "code",
      "source": [
        "metrics=pd.DataFrame(metricas, columns=['clusters', 'silhouette', 'calinski_harabasz'])"
      ],
      "metadata": {
        "id": "xBQ5fCuX41X5"
      },
      "execution_count": null,
      "outputs": []
    },
    {
      "cell_type": "markdown",
      "source": [
        "##Regla del Codo"
      ],
      "metadata": {
        "id": "CX3WFhQ22Oum"
      }
    },
    {
      "cell_type": "code",
      "source": [
        "plt.plot(range(2,20),inercia, marker='o')\n",
        "plt.title('Método del codo')\n",
        "plt.xlabel('Número de clusters')\n",
        "plt.ylabel('Inercia')\n",
        "plt.show()"
      ],
      "metadata": {
        "id": "Dg-r4_5Za3EZ",
        "colab": {
          "base_uri": "https://localhost:8080/",
          "height": 472
        },
        "outputId": "9fb2b619-5000-4600-aeea-47f50b97d17b"
      },
      "execution_count": null,
      "outputs": [
        {
          "output_type": "display_data",
          "data": {
            "text/plain": [
              "<Figure size 640x480 with 1 Axes>"
            ],
            "image/png": "[encoded data removed]"
          },
          "metadata": {}
        }
      ]
    },
    {
      "cell_type": "markdown",
      "source": [
        "##Tabla comparativa de cada cluster y su evaluació en métricos"
      ],
      "metadata": {
        "id": "0IQOlJ622Sni"
      }
    },
    {
      "cell_type": "code",
      "source": [
        "metrics"
      ],
      "metadata": {
        "colab": {
          "base_uri": "https://localhost:8080/",
          "height": 300
        },
        "id": "NIrGlAmr3xTD",
        "outputId": "d7c188b7-6a5b-463a-a523-73ec4709c0ce"
      },
      "execution_count": null,
      "outputs": [
        {
          "output_type": "execute_result",
          "data": {
            "text/plain": [
              "   clusters  silhouette  calinski_harabasz\n",
              "0         3    0.539369       61820.030339\n",
              "1         4    0.558687       61418.947627\n",
              "2         5    0.591280       67289.887227\n",
              "3         6    0.673421       75221.604710\n",
              "4         7    0.741429       96211.244507\n",
              "5         8    0.814994      127672.759650\n",
              "6         9    0.867831      175871.354203\n",
              "7        10    0.905945      314745.650183"
            ],
            "text/html": [
              "\n",
              "  <div id=\"df-5385d1a8-32b1-48de-a28b-1723199d98ee\" class=\"colab-df-container\">\n",
              "    <div>\n",
              "<style scoped>\n",
              "    .dataframe tbody tr th:only-of-type {\n",
              "        vertical-align: middle;\n",
              "    }\n",
              "\n",
              "    .dataframe tbody tr th {\n",
              "        vertical-align: top;\n",
              "    }\n",
              "\n",
              "    .dataframe thead th {\n",
              "        text-align: right;\n",
              "    }\n",
              "</style>\n",
              "<table border=\"1\" class=\"dataframe\">\n",
              "  <thead>\n",
              "    <tr style=\"text-align: right;\">\n",
              "      <th></th>\n",
              "      <th>clusters</th>\n",
              "      <th>silhouette</th>\n",
              "      <th>calinski_harabasz</th>\n",
              "    </tr>\n",
              "  </thead>\n",
              "  <tbody>\n",
              "    <tr>\n",
              "      <th>0</th>\n",
              "      <td>3</td>\n",
              "      <td>0.539369</td>\n",
              "      <td>61820.030339</td>\n",
              "    </tr>\n",
              "    <tr>\n",
              "      <th>1</th>\n",
              "      <td>4</td>\n",
              "      <td>0.558687</td>\n",
              "      <td>61418.947627</td>\n",
              "    </tr>\n",
              "    <tr>\n",
              "      <th>2</th>\n",
              "      <td>5</td>\n",
              "      <td>0.591280</td>\n",
              "      <td>67289.887227</td>\n",
              "    </tr>\n",
              "    <tr>\n",
              "      <th>3</th>\n",
              "      <td>6</td>\n",
              "      <td>0.673421</td>\n",
              "      <td>75221.604710</td>\n",
              "    </tr>\n",
              "    <tr>\n",
              "      <th>4</th>\n",
              "      <td>7</td>\n",
              "      <td>0.741429</td>\n",
              "      <td>96211.244507</td>\n",
              "    </tr>\n",
              "    <tr>\n",
              "      <th>5</th>\n",
              "      <td>8</td>\n",
              "      <td>0.814994</td>\n",
              "      <td>127672.759650</td>\n",
              "    </tr>\n",
              "    <tr>\n",
              "      <th>6</th>\n",
              "      <td>9</td>\n",
              "      <td>0.867831</td>\n",
              "      <td>175871.354203</td>\n",
              "    </tr>\n",
              "    <tr>\n",
              "      <th>7</th>\n",
              "      <td>10</td>\n",
              "      <td>0.905945</td>\n",
              "      <td>314745.650183</td>\n",
              "    </tr>\n",
              "  </tbody>\n",
              "</table>\n",
              "</div>\n",
              "    <div class=\"colab-df-buttons\">\n",
              "\n",
              "  <div class=\"colab-df-container\">\n",
              "    <button class=\"colab-df-convert\" onclick=\"convertToInteractive('df-5385d1a8-32b1-48de-a28b-1723199d98ee')\"\n",
              "            title=\"Convert this dataframe to an interactive table.\"\n",
              "            style=\"display:none;\">\n",
              "\n",
              "  <svg xmlns=\"http://www.w3.org/2000/svg\" height=\"24px\" viewBox=\"0 -960 960 960\">\n",
              "    <path d=\"M120-120v-720h720v720H120Zm60-500h600v-160H180v160Zm220 220h160v-160H400v160Zm0 220h160v-160H400v160ZM180-400h160v-160H180v160Zm440 0h160v-160H620v160ZM180-180h160v-160H180v160Zm440 0h160v-160H620v160Z\"/>\n",
              "  </svg>\n",
              "    </button>\n",
              "\n",
              "  <style>\n",
              "    .colab-df-container {\n",
              "      display:flex;\n",
              "      gap: 12px;\n",
              "    }\n",
              "\n",
              "    .colab-df-convert {\n",
              "      background-color: #E8F0FE;\n",
              "      border: none;\n",
              "      border-radius: 50%;\n",
              "      cursor: pointer;\n",
              "      display: none;\n",
              "      fill: #1967D2;\n",
              "      height: 32px;\n",
              "      padding: 0 0 0 0;\n",
              "      width: 32px;\n",
              "    }\n",
              "\n",
              "    .colab-df-convert:hover {\n",
              "      background-color: #E2EBFA;\n",
              "      box-shadow: 0px 1px 2px rgba(60, 64, 67, 0.3), 0px 1px 3px 1px rgba(60, 64, 67, 0.15);\n",
              "      fill: #174EA6;\n",
              "    }\n",
              "\n",
              "    .colab-df-buttons div {\n",
              "      margin-bottom: 4px;\n",
              "    }\n",
              "\n",
              "    [theme=dark] .colab-df-convert {\n",
              "      background-color: #3B4455;\n",
              "      fill: #D2E3FC;\n",
              "    }\n",
              "\n",
              "    [theme=dark] .colab-df-convert:hover {\n",
              "      background-color: #434B5C;\n",
              "      box-shadow: 0px 1px 3px 1px rgba(0, 0, 0, 0.15);\n",
              "      filter: drop-shadow(0px 1px 2px rgba(0, 0, 0, 0.3));\n",
              "      fill: #FFFFFF;\n",
              "    }\n",
              "  </style>\n",
              "\n",
              "    <script>\n",
              "      const buttonEl =\n",
              "        document.querySelector('#df-5385d1a8-32b1-48de-a28b-1723199d98ee button.colab-df-convert');\n",
              "      buttonEl.style.display =\n",
              "        google.colab.kernel.accessAllowed ? 'block' : 'none';\n",
              "\n",
              "      async function convertToInteractive(key) {\n",
              "        const element = document.querySelector('#df-5385d1a8-32b1-48de-a28b-1723199d98ee');\n",
              "        const dataTable =\n",
              "          await google.colab.kernel.invokeFunction('convertToInteractive',\n",
              "                                                    [key], {});\n",
              "        if (!dataTable) return;\n",
              "\n",
              "        const docLinkHtml = 'Like what you see? Visit the ' +\n",
              "          '<a target=\"_blank\" href=https://colab.research.google.com/notebooks/data_table.ipynb>data table notebook</a>'\n",
              "          + ' to learn more about interactive tables.';\n",
              "        element.innerHTML = '';\n",
              "        dataTable['output_type'] = 'display_data';\n",
              "        await google.colab.output.renderOutput(dataTable, element);\n",
              "        const docLink = document.createElement('div');\n",
              "        docLink.innerHTML = docLinkHtml;\n",
              "        element.appendChild(docLink);\n",
              "      }\n",
              "    </script>\n",
              "  </div>\n",
              "\n",
              "\n",
              "<div id=\"df-be1403f6-6f0b-4047-840e-a2f13a9cc85b\">\n",
              "  <button class=\"colab-df-quickchart\" onclick=\"quickchart('df-be1403f6-6f0b-4047-840e-a2f13a9cc85b')\"\n",
              "            title=\"Suggest charts\"\n",
              "            style=\"display:none;\">\n",
              "\n",
              "<svg xmlns=\"http://www.w3.org/2000/svg\" height=\"24px\"viewBox=\"0 0 24 24\"\n",
              "     width=\"24px\">\n",
              "    <g>\n",
              "        <path d=\"M19 3H5c-1.1 0-2 .9-2 2v14c0 1.1.9 2 2 2h14c1.1 0 2-.9 2-2V5c0-1.1-.9-2-2-2zM9 17H7v-7h2v7zm4 0h-2V7h2v10zm4 0h-2v-4h2v4z\"/>\n",
              "    </g>\n",
              "</svg>\n",
              "  </button>\n",
              "\n",
              "<style>\n",
              "  .colab-df-quickchart {\n",
              "      --bg-color: #E8F0FE;\n",
              "      --fill-color: #1967D2;\n",
              "      --hover-bg-color: #E2EBFA;\n",
              "      --hover-fill-color: #174EA6;\n",
              "      --disabled-fill-color: #AAA;\n",
              "      --disabled-bg-color: #DDD;\n",
              "  }\n",
              "\n",
              "  [theme=dark] .colab-df-quickchart {\n",
              "      --bg-color: #3B4455;\n",
              "      --fill-color: #D2E3FC;\n",
              "      --hover-bg-color: #434B5C;\n",
              "      --hover-fill-color: #FFFFFF;\n",
              "      --disabled-bg-color: #3B4455;\n",
              "      --disabled-fill-color: #666;\n",
              "  }\n",
              "\n",
              "  .colab-df-quickchart {\n",
              "    background-color: var(--bg-color);\n",
              "    border: none;\n",
              "    border-radius: 50%;\n",
              "    cursor: pointer;\n",
              "    display: none;\n",
              "    fill: var(--fill-color);\n",
              "    height: 32px;\n",
              "    padding: 0;\n",
              "    width: 32px;\n",
              "  }\n",
              "\n",
              "  .colab-df-quickchart:hover {\n",
              "    background-color: var(--hover-bg-color);\n",
              "    box-shadow: 0 1px 2px rgba(60, 64, 67, 0.3), 0 1px 3px 1px rgba(60, 64, 67, 0.15);\n",
              "    fill: var(--button-hover-fill-color);\n",
              "  }\n",
              "\n",
              "  .colab-df-quickchart-complete:disabled,\n",
              "  .colab-df-quickchart-complete:disabled:hover {\n",
              "    background-color: var(--disabled-bg-color);\n",
              "    fill: var(--disabled-fill-color);\n",
              "    box-shadow: none;\n",
              "  }\n",
              "\n",
              "  .colab-df-spinner {\n",
              "    border: 2px solid var(--fill-color);\n",
              "    border-color: transparent;\n",
              "    border-bottom-color: var(--fill-color);\n",
              "    animation:\n",
              "      spin 1s steps(1) infinite;\n",
              "  }\n",
              "\n",
              "  @keyframes spin {\n",
              "    0% {\n",
              "      border-color: transparent;\n",
              "      border-bottom-color: var(--fill-color);\n",
              "      border-left-color: var(--fill-color);\n",
              "    }\n",
              "    20% {\n",
              "      border-color: transparent;\n",
              "      border-left-color: var(--fill-color);\n",
              "      border-top-color: var(--fill-color);\n",
              "    }\n",
              "    30% {\n",
              "      border-color: transparent;\n",
              "      border-left-color: var(--fill-color);\n",
              "      border-top-color: var(--fill-color);\n",
              "      border-right-color: var(--fill-color);\n",
              "    }\n",
              "    40% {\n",
              "      border-color: transparent;\n",
              "      border-right-color: var(--fill-color);\n",
              "      border-top-color: var(--fill-color);\n",
              "    }\n",
              "    60% {\n",
              "      border-color: transparent;\n",
              "      border-right-color: var(--fill-color);\n",
              "    }\n",
              "    80% {\n",
              "      border-color: transparent;\n",
              "      border-right-color: var(--fill-color);\n",
              "      border-bottom-color: var(--fill-color);\n",
              "    }\n",
              "    90% {\n",
              "      border-color: transparent;\n",
              "      border-bottom-color: var(--fill-color);\n",
              "    }\n",
              "  }\n",
              "</style>\n",
              "\n",
              "  <script>\n",
              "    async function quickchart(key) {\n",
              "      const quickchartButtonEl =\n",
              "        document.querySelector('#' + key + ' button');\n",
              "      quickchartButtonEl.disabled = true;  // To prevent multiple clicks.\n",
              "      quickchartButtonEl.classList.add('colab-df-spinner');\n",
              "      try {\n",
              "        const charts = await google.colab.kernel.invokeFunction(\n",
              "            'suggestCharts', [key], {});\n",
              "      } catch (error) {\n",
              "        console.error('Error during call to suggestCharts:', error);\n",
              "      }\n",
              "      quickchartButtonEl.classList.remove('colab-df-spinner');\n",
              "      quickchartButtonEl.classList.add('colab-df-quickchart-complete');\n",
              "    }\n",
              "    (() => {\n",
              "      let quickchartButtonEl =\n",
              "        document.querySelector('#df-be1403f6-6f0b-4047-840e-a2f13a9cc85b button');\n",
              "      quickchartButtonEl.style.display =\n",
              "        google.colab.kernel.accessAllowed ? 'block' : 'none';\n",
              "    })();\n",
              "  </script>\n",
              "</div>\n",
              "\n",
              "  <div id=\"id_dc180b03-0845-4d1a-a845-c983536888e1\">\n",
              "    <style>\n",
              "      .colab-df-generate {\n",
              "        background-color: #E8F0FE;\n",
              "        border: none;\n",
              "        border-radius: 50%;\n",
              "        cursor: pointer;\n",
              "        display: none;\n",
              "        fill: #1967D2;\n",
              "        height: 32px;\n",
              "        padding: 0 0 0 0;\n",
              "        width: 32px;\n",
              "      }\n",
              "\n",
              "      .colab-df-generate:hover {\n",
              "        background-color: #E2EBFA;\n",
              "        box-shadow: 0px 1px 2px rgba(60, 64, 67, 0.3), 0px 1px 3px 1px rgba(60, 64, 67, 0.15);\n",
              "        fill: #174EA6;\n",
              "      }\n",
              "\n",
              "      [theme=dark] .colab-df-generate {\n",
              "        background-color: #3B4455;\n",
              "        fill: #D2E3FC;\n",
              "      }\n",
              "\n",
              "      [theme=dark] .colab-df-generate:hover {\n",
              "        background-color: #434B5C;\n",
              "        box-shadow: 0px 1px 3px 1px rgba(0, 0, 0, 0.15);\n",
              "        filter: drop-shadow(0px 1px 2px rgba(0, 0, 0, 0.3));\n",
              "        fill: #FFFFFF;\n",
              "      }\n",
              "    </style>\n",
              "    <button class=\"colab-df-generate\" onclick=\"generateWithVariable('metrics')\"\n",
              "            title=\"Generate code using this dataframe.\"\n",
              "            style=\"display:none;\">\n",
              "\n",
              "  <svg xmlns=\"http://www.w3.org/2000/svg\" height=\"24px\"viewBox=\"0 0 24 24\"\n",
              "       width=\"24px\">\n",
              "    <path d=\"M7,19H8.4L18.45,9,17,7.55,7,17.6ZM5,21V16.75L18.45,3.32a2,2,0,0,1,2.83,0l1.4,1.43a1.91,1.91,0,0,1,.58,1.4,1.91,1.91,0,0,1-.58,1.4L9.25,21ZM18.45,9,17,7.55Zm-12,3A5.31,5.31,0,0,0,4.9,8.1,5.31,5.31,0,0,0,1,6.5,5.31,5.31,0,0,0,4.9,4.9,5.31,5.31,0,0,0,6.5,1,5.31,5.31,0,0,0,8.1,4.9,5.31,5.31,0,0,0,12,6.5,5.46,5.46,0,0,0,6.5,12Z\"/>\n",
              "  </svg>\n",
              "    </button>\n",
              "    <script>\n",
              "      (() => {\n",
              "      const buttonEl =\n",
              "        document.querySelector('#id_dc180b03-0845-4d1a-a845-c983536888e1 button.colab-df-generate');\n",
              "      buttonEl.style.display =\n",
              "        google.colab.kernel.accessAllowed ? 'block' : 'none';\n",
              "\n",
              "      buttonEl.onclick = () => {\n",
              "        google.colab.notebook.generateWithVariable('metrics');\n",
              "      }\n",
              "      })();\n",
              "    </script>\n",
              "  </div>\n",
              "\n",
              "    </div>\n",
              "  </div>\n"
            ],
            "application/vnd.google.colaboratory.intrinsic+json": {
              "type": "dataframe",
              "variable_name": "metrics",
              "summary": "{\n  \"name\": \"metrics\",\n  \"rows\": 8,\n  \"fields\": [\n    {\n      \"column\": \"clusters\",\n      \"properties\": {\n        \"dtype\": \"number\",\n        \"std\": 2,\n        \"min\": 3,\n        \"max\": 10,\n        \"num_unique_values\": 8,\n        \"samples\": [\n          4,\n          8,\n          3\n        ],\n        \"semantic_type\": \"\",\n        \"description\": \"\"\n      }\n    },\n    {\n      \"column\": \"silhouette\",\n      \"properties\": {\n        \"dtype\": \"number\",\n        \"std\": 0.1427979592405623,\n        \"min\": 0.539368653325655,\n        \"max\": 0.9059454113170126,\n        \"num_unique_values\": 8,\n        \"samples\": [\n          0.5586866520798884,\n          0.8149936936243305,\n          0.539368653325655\n        ],\n        \"semantic_type\": \"\",\n        \"description\": \"\"\n      }\n    },\n    {\n      \"column\": \"calinski_harabasz\",\n      \"properties\": {\n        \"dtype\": \"number\",\n        \"std\": 87195.26245054319,\n        \"min\": 61418.9476271188,\n        \"max\": 314745.6501825353,\n        \"num_unique_values\": 8,\n        \"samples\": [\n          61418.9476271188,\n          127672.75965018543,\n          61820.030339028875\n        ],\n        \"semantic_type\": \"\",\n        \"description\": \"\"\n      }\n    }\n  ]\n}"
            }
          },
          "metadata": {},
          "execution_count": 278
        }
      ]
    },
    {
      "cell_type": "markdown",
      "source": [
        "Evaluación de estructura de datos\n"
      ],
      "metadata": {
        "id": "QunQwvMM4c1Z"
      }
    },
    {
      "cell_type": "code",
      "source": [
        "set1, set2, set3=np.array_split(x_std, 3)"
      ],
      "metadata": {
        "id": "lo53d9ES4esQ"
      },
      "execution_count": null,
      "outputs": []
    },
    {
      "cell_type": "code",
      "source": [
        "set1.shape, set2.shape, set3.shape"
      ],
      "metadata": {
        "colab": {
          "base_uri": "https://localhost:8080/"
        },
        "id": "5DlvDtuP-BdI",
        "outputId": "e8de717b-6355-41c9-af5b-384554a10c70"
      },
      "execution_count": null,
      "outputs": [
        {
          "output_type": "execute_result",
          "data": {
            "text/plain": [
              "((20143, 6), (20143, 6), (20142, 6))"
            ]
          },
          "metadata": {},
          "execution_count": 285
        }
      ]
    },
    {
      "cell_type": "code",
      "source": [
        "def metricas(array):\n",
        "  metricas=[]\n",
        "\n",
        "  for k in range(3, 11):\n",
        "    kmeans=KMeans(n_clusters=k, random_state=123)\n",
        "    kmeans.fit(array)\n",
        "\n",
        "    silhou = silhouette_score(array, kmeans.labels_)\n",
        "    #db=daviers_bouldin_score(array, kmeans.labels_)\n",
        "    ch=calinski_harabasz_score(array, kmeans.labels_)\n",
        "\n",
        "    metricas.append([k, silhou, ch])\n",
        "\n",
        "  df_metrics=pd.DataFrame(metricas, columns=['clusters', 'silhouette', 'calinski_harabasz'])\n",
        "  return df_metrics"
      ],
      "metadata": {
        "id": "TB4zhAF0-LCY"
      },
      "execution_count": null,
      "outputs": []
    },
    {
      "cell_type": "code",
      "source": [
        "metricas(set1)"
      ],
      "metadata": {
        "colab": {
          "base_uri": "https://localhost:8080/",
          "height": 578
        },
        "id": "RcpulXyu-sWI",
        "outputId": "2878b164-f7da-4ecf-97bf-f39c53efc263"
      },
      "execution_count": null,
      "outputs": [
        {
          "output_type": "stream",
          "name": "stderr",
          "text": [
            "/usr/local/lib/python3.10/dist-packages/sklearn/cluster/_kmeans.py:870: FutureWarning: The default value of `n_init` will change from 10 to 'auto' in 1.4. Set the value of `n_init` explicitly to suppress the warning\n",
            "  warnings.warn(\n",
            "/usr/local/lib/python3.10/dist-packages/sklearn/cluster/_kmeans.py:870: FutureWarning: The default value of `n_init` will change from 10 to 'auto' in 1.4. Set the value of `n_init` explicitly to suppress the warning\n",
            "  warnings.warn(\n",
            "/usr/local/lib/python3.10/dist-packages/sklearn/cluster/_kmeans.py:870: FutureWarning: The default value of `n_init` will change from 10 to 'auto' in 1.4. Set the value of `n_init` explicitly to suppress the warning\n",
            "  warnings.warn(\n",
            "/usr/local/lib/python3.10/dist-packages/sklearn/cluster/_kmeans.py:870: FutureWarning: The default value of `n_init` will change from 10 to 'auto' in 1.4. Set the value of `n_init` explicitly to suppress the warning\n",
            "  warnings.warn(\n",
            "/usr/local/lib/python3.10/dist-packages/sklearn/cluster/_kmeans.py:870: FutureWarning: The default value of `n_init` will change from 10 to 'auto' in 1.4. Set the value of `n_init` explicitly to suppress the warning\n",
            "  warnings.warn(\n",
            "/usr/local/lib/python3.10/dist-packages/sklearn/cluster/_kmeans.py:870: FutureWarning: The default value of `n_init` will change from 10 to 'auto' in 1.4. Set the value of `n_init` explicitly to suppress the warning\n",
            "  warnings.warn(\n",
            "/usr/local/lib/python3.10/dist-packages/sklearn/cluster/_kmeans.py:870: FutureWarning: The default value of `n_init` will change from 10 to 'auto' in 1.4. Set the value of `n_init` explicitly to suppress the warning\n",
            "  warnings.warn(\n",
            "/usr/local/lib/python3.10/dist-packages/sklearn/cluster/_kmeans.py:870: FutureWarning: The default value of `n_init` will change from 10 to 'auto' in 1.4. Set the value of `n_init` explicitly to suppress the warning\n",
            "  warnings.warn(\n"
          ]
        },
        {
          "output_type": "execute_result",
          "data": {
            "text/plain": [
              "   clusters  silhouette  calinski_harabasz\n",
              "0         3    0.539351       20552.755866\n",
              "1         4    0.557754       20426.008158\n",
              "2         5    0.591255       22439.630434\n",
              "3         6    0.675216       25275.471002\n",
              "4         7    0.742339       32210.906442\n",
              "5         8    0.815889       42845.310784\n",
              "6         9    0.852566       55827.895092\n",
              "7        10    0.909158      107891.943020"
            ],
            "text/html": [
              "\n",
              "  <div id=\"df-72ece0af-2b4a-462b-89d4-1425c10fea27\" class=\"colab-df-container\">\n",
              "    <div>\n",
              "<style scoped>\n",
              "    .dataframe tbody tr th:only-of-type {\n",
              "        vertical-align: middle;\n",
              "    }\n",
              "\n",
              "    .dataframe tbody tr th {\n",
              "        vertical-align: top;\n",
              "    }\n",
              "\n",
              "    .dataframe thead th {\n",
              "        text-align: right;\n",
              "    }\n",
              "</style>\n",
              "<table border=\"1\" class=\"dataframe\">\n",
              "  <thead>\n",
              "    <tr style=\"text-align: right;\">\n",
              "      <th></th>\n",
              "      <th>clusters</th>\n",
              "      <th>silhouette</th>\n",
              "      <th>calinski_harabasz</th>\n",
              "    </tr>\n",
              "  </thead>\n",
              "  <tbody>\n",
              "    <tr>\n",
              "      <th>0</th>\n",
              "      <td>3</td>\n",
              "      <td>0.539351</td>\n",
              "      <td>20552.755866</td>\n",
              "    </tr>\n",
              "    <tr>\n",
              "      <th>1</th>\n",
              "      <td>4</td>\n",
              "      <td>0.557754</td>\n",
              "      <td>20426.008158</td>\n",
              "    </tr>\n",
              "    <tr>\n",
              "      <th>2</th>\n",
              "      <td>5</td>\n",
              "      <td>0.591255</td>\n",
              "      <td>22439.630434</td>\n",
              "    </tr>\n",
              "    <tr>\n",
              "      <th>3</th>\n",
              "      <td>6</td>\n",
              "      <td>0.675216</td>\n",
              "      <td>25275.471002</td>\n",
              "    </tr>\n",
              "    <tr>\n",
              "      <th>4</th>\n",
              "      <td>7</td>\n",
              "      <td>0.742339</td>\n",
              "      <td>32210.906442</td>\n",
              "    </tr>\n",
              "    <tr>\n",
              "      <th>5</th>\n",
              "      <td>8</td>\n",
              "      <td>0.815889</td>\n",
              "      <td>42845.310784</td>\n",
              "    </tr>\n",
              "    <tr>\n",
              "      <th>6</th>\n",
              "      <td>9</td>\n",
              "      <td>0.852566</td>\n",
              "      <td>55827.895092</td>\n",
              "    </tr>\n",
              "    <tr>\n",
              "      <th>7</th>\n",
              "      <td>10</td>\n",
              "      <td>0.909158</td>\n",
              "      <td>107891.943020</td>\n",
              "    </tr>\n",
              "  </tbody>\n",
              "</table>\n",
              "</div>\n",
              "    <div class=\"colab-df-buttons\">\n",
              "\n",
              "  <div class=\"colab-df-container\">\n",
              "    <button class=\"colab-df-convert\" onclick=\"convertToInteractive('df-72ece0af-2b4a-462b-89d4-1425c10fea27')\"\n",
              "            title=\"Convert this dataframe to an interactive table.\"\n",
              "            style=\"display:none;\">\n",
              "\n",
              "  <svg xmlns=\"http://www.w3.org/2000/svg\" height=\"24px\" viewBox=\"0 -960 960 960\">\n",
              "    <path d=\"M120-120v-720h720v720H120Zm60-500h600v-160H180v160Zm220 220h160v-160H400v160Zm0 220h160v-160H400v160ZM180-400h160v-160H180v160Zm440 0h160v-160H620v160ZM180-180h160v-160H180v160Zm440 0h160v-160H620v160Z\"/>\n",
              "  </svg>\n",
              "    </button>\n",
              "\n",
              "  <style>\n",
              "    .colab-df-container {\n",
              "      display:flex;\n",
              "      gap: 12px;\n",
              "    }\n",
              "\n",
              "    .colab-df-convert {\n",
              "      background-color: #E8F0FE;\n",
              "      border: none;\n",
              "      border-radius: 50%;\n",
              "      cursor: pointer;\n",
              "      display: none;\n",
              "      fill: #1967D2;\n",
              "      height: 32px;\n",
              "      padding: 0 0 0 0;\n",
              "      width: 32px;\n",
              "    }\n",
              "\n",
              "    .colab-df-convert:hover {\n",
              "      background-color: #E2EBFA;\n",
              "      box-shadow: 0px 1px 2px rgba(60, 64, 67, 0.3), 0px 1px 3px 1px rgba(60, 64, 67, 0.15);\n",
              "      fill: #174EA6;\n",
              "    }\n",
              "\n",
              "    .colab-df-buttons div {\n",
              "      margin-bottom: 4px;\n",
              "    }\n",
              "\n",
              "    [theme=dark] .colab-df-convert {\n",
              "      background-color: #3B4455;\n",
              "      fill: #D2E3FC;\n",
              "    }\n",
              "\n",
              "    [theme=dark] .colab-df-convert:hover {\n",
              "      background-color: #434B5C;\n",
              "      box-shadow: 0px 1px 3px 1px rgba(0, 0, 0, 0.15);\n",
              "      filter: drop-shadow(0px 1px 2px rgba(0, 0, 0, 0.3));\n",
              "      fill: #FFFFFF;\n",
              "    }\n",
              "  </style>\n",
              "\n",
              "    <script>\n",
              "      const buttonEl =\n",
              "        document.querySelector('#df-72ece0af-2b4a-462b-89d4-1425c10fea27 button.colab-df-convert');\n",
              "      buttonEl.style.display =\n",
              "        google.colab.kernel.accessAllowed ? 'block' : 'none';\n",
              "\n",
              "      async function convertToInteractive(key) {\n",
              "        const element = document.querySelector('#df-72ece0af-2b4a-462b-89d4-1425c10fea27');\n",
              "        const dataTable =\n",
              "          await google.colab.kernel.invokeFunction('convertToInteractive',\n",
              "                                                    [key], {});\n",
              "        if (!dataTable) return;\n",
              "\n",
              "        const docLinkHtml = 'Like what you see? Visit the ' +\n",
              "          '<a target=\"_blank\" href=https://colab.research.google.com/notebooks/data_table.ipynb>data table notebook</a>'\n",
              "          + ' to learn more about interactive tables.';\n",
              "        element.innerHTML = '';\n",
              "        dataTable['output_type'] = 'display_data';\n",
              "        await google.colab.output.renderOutput(dataTable, element);\n",
              "        const docLink = document.createElement('div');\n",
              "        docLink.innerHTML = docLinkHtml;\n",
              "        element.appendChild(docLink);\n",
              "      }\n",
              "    </script>\n",
              "  </div>\n",
              "\n",
              "\n",
              "<div id=\"df-9fc42954-4030-4f4f-a91b-9b17371a805b\">\n",
              "  <button class=\"colab-df-quickchart\" onclick=\"quickchart('df-9fc42954-4030-4f4f-a91b-9b17371a805b')\"\n",
              "            title=\"Suggest charts\"\n",
              "            style=\"display:none;\">\n",
              "\n",
              "<svg xmlns=\"http://www.w3.org/2000/svg\" height=\"24px\"viewBox=\"0 0 24 24\"\n",
              "     width=\"24px\">\n",
              "    <g>\n",
              "        <path d=\"M19 3H5c-1.1 0-2 .9-2 2v14c0 1.1.9 2 2 2h14c1.1 0 2-.9 2-2V5c0-1.1-.9-2-2-2zM9 17H7v-7h2v7zm4 0h-2V7h2v10zm4 0h-2v-4h2v4z\"/>\n",
              "    </g>\n",
              "</svg>\n",
              "  </button>\n",
              "\n",
              "<style>\n",
              "  .colab-df-quickchart {\n",
              "      --bg-color: #E8F0FE;\n",
              "      --fill-color: #1967D2;\n",
              "      --hover-bg-color: #E2EBFA;\n",
              "      --hover-fill-color: #174EA6;\n",
              "      --disabled-fill-color: #AAA;\n",
              "      --disabled-bg-color: #DDD;\n",
              "  }\n",
              "\n",
              "  [theme=dark] .colab-df-quickchart {\n",
              "      --bg-color: #3B4455;\n",
              "      --fill-color: #D2E3FC;\n",
              "      --hover-bg-color: #434B5C;\n",
              "      --hover-fill-color: #FFFFFF;\n",
              "      --disabled-bg-color: #3B4455;\n",
              "      --disabled-fill-color: #666;\n",
              "  }\n",
              "\n",
              "  .colab-df-quickchart {\n",
              "    background-color: var(--bg-color);\n",
              "    border: none;\n",
              "    border-radius: 50%;\n",
              "    cursor: pointer;\n",
              "    display: none;\n",
              "    fill: var(--fill-color);\n",
              "    height: 32px;\n",
              "    padding: 0;\n",
              "    width: 32px;\n",
              "  }\n",
              "\n",
              "  .colab-df-quickchart:hover {\n",
              "    background-color: var(--hover-bg-color);\n",
              "    box-shadow: 0 1px 2px rgba(60, 64, 67, 0.3), 0 1px 3px 1px rgba(60, 64, 67, 0.15);\n",
              "    fill: var(--button-hover-fill-color);\n",
              "  }\n",
              "\n",
              "  .colab-df-quickchart-complete:disabled,\n",
              "  .colab-df-quickchart-complete:disabled:hover {\n",
              "    background-color: var(--disabled-bg-color);\n",
              "    fill: var(--disabled-fill-color);\n",
              "    box-shadow: none;\n",
              "  }\n",
              "\n",
              "  .colab-df-spinner {\n",
              "    border: 2px solid var(--fill-color);\n",
              "    border-color: transparent;\n",
              "    border-bottom-color: var(--fill-color);\n",
              "    animation:\n",
              "      spin 1s steps(1) infinite;\n",
              "  }\n",
              "\n",
              "  @keyframes spin {\n",
              "    0% {\n",
              "      border-color: transparent;\n",
              "      border-bottom-color: var(--fill-color);\n",
              "      border-left-color: var(--fill-color);\n",
              "    }\n",
              "    20% {\n",
              "      border-color: transparent;\n",
              "      border-left-color: var(--fill-color);\n",
              "      border-top-color: var(--fill-color);\n",
              "    }\n",
              "    30% {\n",
              "      border-color: transparent;\n",
              "      border-left-color: var(--fill-color);\n",
              "      border-top-color: var(--fill-color);\n",
              "      border-right-color: var(--fill-color);\n",
              "    }\n",
              "    40% {\n",
              "      border-color: transparent;\n",
              "      border-right-color: var(--fill-color);\n",
              "      border-top-color: var(--fill-color);\n",
              "    }\n",
              "    60% {\n",
              "      border-color: transparent;\n",
              "      border-right-color: var(--fill-color);\n",
              "    }\n",
              "    80% {\n",
              "      border-color: transparent;\n",
              "      border-right-color: var(--fill-color);\n",
              "      border-bottom-color: var(--fill-color);\n",
              "    }\n",
              "    90% {\n",
              "      border-color: transparent;\n",
              "      border-bottom-color: var(--fill-color);\n",
              "    }\n",
              "  }\n",
              "</style>\n",
              "\n",
              "  <script>\n",
              "    async function quickchart(key) {\n",
              "      const quickchartButtonEl =\n",
              "        document.querySelector('#' + key + ' button');\n",
              "      quickchartButtonEl.disabled = true;  // To prevent multiple clicks.\n",
              "      quickchartButtonEl.classList.add('colab-df-spinner');\n",
              "      try {\n",
              "        const charts = await google.colab.kernel.invokeFunction(\n",
              "            'suggestCharts', [key], {});\n",
              "      } catch (error) {\n",
              "        console.error('Error during call to suggestCharts:', error);\n",
              "      }\n",
              "      quickchartButtonEl.classList.remove('colab-df-spinner');\n",
              "      quickchartButtonEl.classList.add('colab-df-quickchart-complete');\n",
              "    }\n",
              "    (() => {\n",
              "      let quickchartButtonEl =\n",
              "        document.querySelector('#df-9fc42954-4030-4f4f-a91b-9b17371a805b button');\n",
              "      quickchartButtonEl.style.display =\n",
              "        google.colab.kernel.accessAllowed ? 'block' : 'none';\n",
              "    })();\n",
              "  </script>\n",
              "</div>\n",
              "\n",
              "    </div>\n",
              "  </div>\n"
            ],
            "application/vnd.google.colaboratory.intrinsic+json": {
              "type": "dataframe",
              "summary": "{\n  \"name\": \"metricas(set1)\",\n  \"rows\": 8,\n  \"fields\": [\n    {\n      \"column\": \"clusters\",\n      \"properties\": {\n        \"dtype\": \"number\",\n        \"std\": 2,\n        \"min\": 3,\n        \"max\": 10,\n        \"num_unique_values\": 8,\n        \"samples\": [\n          4,\n          8,\n          3\n        ],\n        \"semantic_type\": \"\",\n        \"description\": \"\"\n      }\n    },\n    {\n      \"column\": \"silhouette\",\n      \"properties\": {\n        \"dtype\": \"number\",\n        \"std\": 0.1413484677116298,\n        \"min\": 0.5393512511329347,\n        \"max\": 0.9091579067711816,\n        \"num_unique_values\": 8,\n        \"samples\": [\n          0.5577541505647351,\n          0.8158893086372172,\n          0.5393512511329347\n        ],\n        \"semantic_type\": \"\",\n        \"description\": \"\"\n      }\n    },\n    {\n      \"column\": \"calinski_harabasz\",\n      \"properties\": {\n        \"dtype\": \"number\",\n        \"std\": 29780.49167782503,\n        \"min\": 20426.00815764676,\n        \"max\": 107891.94302029713,\n        \"num_unique_values\": 8,\n        \"samples\": [\n          20426.00815764676,\n          42845.31078421163,\n          20552.75586567742\n        ],\n        \"semantic_type\": \"\",\n        \"description\": \"\"\n      }\n    }\n  ]\n}"
            }
          },
          "metadata": {},
          "execution_count": 287
        }
      ]
    },
    {
      "cell_type": "code",
      "source": [
        "metricas(set2)"
      ],
      "metadata": {
        "colab": {
          "base_uri": "https://localhost:8080/",
          "height": 578
        },
        "id": "rQxAY4hL-vhw",
        "outputId": "c8075e7e-0c3b-40d6-e053-b28c9ca95763"
      },
      "execution_count": null,
      "outputs": [
        {
          "output_type": "stream",
          "name": "stderr",
          "text": [
            "/usr/local/lib/python3.10/dist-packages/sklearn/cluster/_kmeans.py:870: FutureWarning: The default value of `n_init` will change from 10 to 'auto' in 1.4. Set the value of `n_init` explicitly to suppress the warning\n",
            "  warnings.warn(\n",
            "/usr/local/lib/python3.10/dist-packages/sklearn/cluster/_kmeans.py:870: FutureWarning: The default value of `n_init` will change from 10 to 'auto' in 1.4. Set the value of `n_init` explicitly to suppress the warning\n",
            "  warnings.warn(\n",
            "/usr/local/lib/python3.10/dist-packages/sklearn/cluster/_kmeans.py:870: FutureWarning: The default value of `n_init` will change from 10 to 'auto' in 1.4. Set the value of `n_init` explicitly to suppress the warning\n",
            "  warnings.warn(\n",
            "/usr/local/lib/python3.10/dist-packages/sklearn/cluster/_kmeans.py:870: FutureWarning: The default value of `n_init` will change from 10 to 'auto' in 1.4. Set the value of `n_init` explicitly to suppress the warning\n",
            "  warnings.warn(\n",
            "/usr/local/lib/python3.10/dist-packages/sklearn/cluster/_kmeans.py:870: FutureWarning: The default value of `n_init` will change from 10 to 'auto' in 1.4. Set the value of `n_init` explicitly to suppress the warning\n",
            "  warnings.warn(\n",
            "/usr/local/lib/python3.10/dist-packages/sklearn/cluster/_kmeans.py:870: FutureWarning: The default value of `n_init` will change from 10 to 'auto' in 1.4. Set the value of `n_init` explicitly to suppress the warning\n",
            "  warnings.warn(\n",
            "/usr/local/lib/python3.10/dist-packages/sklearn/cluster/_kmeans.py:870: FutureWarning: The default value of `n_init` will change from 10 to 'auto' in 1.4. Set the value of `n_init` explicitly to suppress the warning\n",
            "  warnings.warn(\n",
            "/usr/local/lib/python3.10/dist-packages/sklearn/cluster/_kmeans.py:870: FutureWarning: The default value of `n_init` will change from 10 to 'auto' in 1.4. Set the value of `n_init` explicitly to suppress the warning\n",
            "  warnings.warn(\n"
          ]
        },
        {
          "output_type": "execute_result",
          "data": {
            "text/plain": [
              "   clusters  silhouette  calinski_harabasz\n",
              "0         3    0.540281       20759.041904\n",
              "1         4    0.560165       20592.554644\n",
              "2         5    0.591050       22413.495187\n",
              "3         6    0.659067       24918.619985\n",
              "4         7    0.741411       32046.802495\n",
              "5         8    0.810814       41913.846012\n",
              "6         9    0.870698       59249.362642\n",
              "7        10    0.909316      108384.823546"
            ],
            "text/html": [
              "\n",
              "  <div id=\"df-12686e62-8c86-4fda-ba4a-02e4ca15435e\" class=\"colab-df-container\">\n",
              "    <div>\n",
              "<style scoped>\n",
              "    .dataframe tbody tr th:only-of-type {\n",
              "        vertical-align: middle;\n",
              "    }\n",
              "\n",
              "    .dataframe tbody tr th {\n",
              "        vertical-align: top;\n",
              "    }\n",
              "\n",
              "    .dataframe thead th {\n",
              "        text-align: right;\n",
              "    }\n",
              "</style>\n",
              "<table border=\"1\" class=\"dataframe\">\n",
              "  <thead>\n",
              "    <tr style=\"text-align: right;\">\n",
              "      <th></th>\n",
              "      <th>clusters</th>\n",
              "      <th>silhouette</th>\n",
              "      <th>calinski_harabasz</th>\n",
              "    </tr>\n",
              "  </thead>\n",
              "  <tbody>\n",
              "    <tr>\n",
              "      <th>0</th>\n",
              "      <td>3</td>\n",
              "      <td>0.540281</td>\n",
              "      <td>20759.041904</td>\n",
              "    </tr>\n",
              "    <tr>\n",
              "      <th>1</th>\n",
              "      <td>4</td>\n",
              "      <td>0.560165</td>\n",
              "      <td>20592.554644</td>\n",
              "    </tr>\n",
              "    <tr>\n",
              "      <th>2</th>\n",
              "      <td>5</td>\n",
              "      <td>0.591050</td>\n",
              "      <td>22413.495187</td>\n",
              "    </tr>\n",
              "    <tr>\n",
              "      <th>3</th>\n",
              "      <td>6</td>\n",
              "      <td>0.659067</td>\n",
              "      <td>24918.619985</td>\n",
              "    </tr>\n",
              "    <tr>\n",
              "      <th>4</th>\n",
              "      <td>7</td>\n",
              "      <td>0.741411</td>\n",
              "      <td>32046.802495</td>\n",
              "    </tr>\n",
              "    <tr>\n",
              "      <th>5</th>\n",
              "      <td>8</td>\n",
              "      <td>0.810814</td>\n",
              "      <td>41913.846012</td>\n",
              "    </tr>\n",
              "    <tr>\n",
              "      <th>6</th>\n",
              "      <td>9</td>\n",
              "      <td>0.870698</td>\n",
              "      <td>59249.362642</td>\n",
              "    </tr>\n",
              "    <tr>\n",
              "      <th>7</th>\n",
              "      <td>10</td>\n",
              "      <td>0.909316</td>\n",
              "      <td>108384.823546</td>\n",
              "    </tr>\n",
              "  </tbody>\n",
              "</table>\n",
              "</div>\n",
              "    <div class=\"colab-df-buttons\">\n",
              "\n",
              "  <div class=\"colab-df-container\">\n",
              "    <button class=\"colab-df-convert\" onclick=\"convertToInteractive('df-12686e62-8c86-4fda-ba4a-02e4ca15435e')\"\n",
              "            title=\"Convert this dataframe to an interactive table.\"\n",
              "            style=\"display:none;\">\n",
              "\n",
              "  <svg xmlns=\"http://www.w3.org/2000/svg\" height=\"24px\" viewBox=\"0 -960 960 960\">\n",
              "    <path d=\"M120-120v-720h720v720H120Zm60-500h600v-160H180v160Zm220 220h160v-160H400v160Zm0 220h160v-160H400v160ZM180-400h160v-160H180v160Zm440 0h160v-160H620v160ZM180-180h160v-160H180v160Zm440 0h160v-160H620v160Z\"/>\n",
              "  </svg>\n",
              "    </button>\n",
              "\n",
              "  <style>\n",
              "    .colab-df-container {\n",
              "      display:flex;\n",
              "      gap: 12px;\n",
              "    }\n",
              "\n",
              "    .colab-df-convert {\n",
              "      background-color: #E8F0FE;\n",
              "      border: none;\n",
              "      border-radius: 50%;\n",
              "      cursor: pointer;\n",
              "      display: none;\n",
              "      fill: #1967D2;\n",
              "      height: 32px;\n",
              "      padding: 0 0 0 0;\n",
              "      width: 32px;\n",
              "    }\n",
              "\n",
              "    .colab-df-convert:hover {\n",
              "      background-color: #E2EBFA;\n",
              "      box-shadow: 0px 1px 2px rgba(60, 64, 67, 0.3), 0px 1px 3px 1px rgba(60, 64, 67, 0.15);\n",
              "      fill: #174EA6;\n",
              "    }\n",
              "\n",
              "    .colab-df-buttons div {\n",
              "      margin-bottom: 4px;\n",
              "    }\n",
              "\n",
              "    [theme=dark] .colab-df-convert {\n",
              "      background-color: #3B4455;\n",
              "      fill: #D2E3FC;\n",
              "    }\n",
              "\n",
              "    [theme=dark] .colab-df-convert:hover {\n",
              "      background-color: #434B5C;\n",
              "      box-shadow: 0px 1px 3px 1px rgba(0, 0, 0, 0.15);\n",
              "      filter: drop-shadow(0px 1px 2px rgba(0, 0, 0, 0.3));\n",
              "      fill: #FFFFFF;\n",
              "    }\n",
              "  </style>\n",
              "\n",
              "    <script>\n",
              "      const buttonEl =\n",
              "        document.querySelector('#df-12686e62-8c86-4fda-ba4a-02e4ca15435e button.colab-df-convert');\n",
              "      buttonEl.style.display =\n",
              "        google.colab.kernel.accessAllowed ? 'block' : 'none';\n",
              "\n",
              "      async function convertToInteractive(key) {\n",
              "        const element = document.querySelector('#df-12686e62-8c86-4fda-ba4a-02e4ca15435e');\n",
              "        const dataTable =\n",
              "          await google.colab.kernel.invokeFunction('convertToInteractive',\n",
              "                                                    [key], {});\n",
              "        if (!dataTable) return;\n",
              "\n",
              "        const docLinkHtml = 'Like what you see? Visit the ' +\n",
              "          '<a target=\"_blank\" href=https://colab.research.google.com/notebooks/data_table.ipynb>data table notebook</a>'\n",
              "          + ' to learn more about interactive tables.';\n",
              "        element.innerHTML = '';\n",
              "        dataTable['output_type'] = 'display_data';\n",
              "        await google.colab.output.renderOutput(dataTable, element);\n",
              "        const docLink = document.createElement('div');\n",
              "        docLink.innerHTML = docLinkHtml;\n",
              "        element.appendChild(docLink);\n",
              "      }\n",
              "    </script>\n",
              "  </div>\n",
              "\n",
              "\n",
              "<div id=\"df-d4dba571-8a48-4d57-b6fc-a0a24e6de8cf\">\n",
              "  <button class=\"colab-df-quickchart\" onclick=\"quickchart('df-d4dba571-8a48-4d57-b6fc-a0a24e6de8cf')\"\n",
              "            title=\"Suggest charts\"\n",
              "            style=\"display:none;\">\n",
              "\n",
              "<svg xmlns=\"http://www.w3.org/2000/svg\" height=\"24px\"viewBox=\"0 0 24 24\"\n",
              "     width=\"24px\">\n",
              "    <g>\n",
              "        <path d=\"M19 3H5c-1.1 0-2 .9-2 2v14c0 1.1.9 2 2 2h14c1.1 0 2-.9 2-2V5c0-1.1-.9-2-2-2zM9 17H7v-7h2v7zm4 0h-2V7h2v10zm4 0h-2v-4h2v4z\"/>\n",
              "    </g>\n",
              "</svg>\n",
              "  </button>\n",
              "\n",
              "<style>\n",
              "  .colab-df-quickchart {\n",
              "      --bg-color: #E8F0FE;\n",
              "      --fill-color: #1967D2;\n",
              "      --hover-bg-color: #E2EBFA;\n",
              "      --hover-fill-color: #174EA6;\n",
              "      --disabled-fill-color: #AAA;\n",
              "      --disabled-bg-color: #DDD;\n",
              "  }\n",
              "\n",
              "  [theme=dark] .colab-df-quickchart {\n",
              "      --bg-color: #3B4455;\n",
              "      --fill-color: #D2E3FC;\n",
              "      --hover-bg-color: #434B5C;\n",
              "      --hover-fill-color: #FFFFFF;\n",
              "      --disabled-bg-color: #3B4455;\n",
              "      --disabled-fill-color: #666;\n",
              "  }\n",
              "\n",
              "  .colab-df-quickchart {\n",
              "    background-color: var(--bg-color);\n",
              "    border: none;\n",
              "    border-radius: 50%;\n",
              "    cursor: pointer;\n",
              "    display: none;\n",
              "    fill: var(--fill-color);\n",
              "    height: 32px;\n",
              "    padding: 0;\n",
              "    width: 32px;\n",
              "  }\n",
              "\n",
              "  .colab-df-quickchart:hover {\n",
              "    background-color: var(--hover-bg-color);\n",
              "    box-shadow: 0 1px 2px rgba(60, 64, 67, 0.3), 0 1px 3px 1px rgba(60, 64, 67, 0.15);\n",
              "    fill: var(--button-hover-fill-color);\n",
              "  }\n",
              "\n",
              "  .colab-df-quickchart-complete:disabled,\n",
              "  .colab-df-quickchart-complete:disabled:hover {\n",
              "    background-color: var(--disabled-bg-color);\n",
              "    fill: var(--disabled-fill-color);\n",
              "    box-shadow: none;\n",
              "  }\n",
              "\n",
              "  .colab-df-spinner {\n",
              "    border: 2px solid var(--fill-color);\n",
              "    border-color: transparent;\n",
              "    border-bottom-color: var(--fill-color);\n",
              "    animation:\n",
              "      spin 1s steps(1) infinite;\n",
              "  }\n",
              "\n",
              "  @keyframes spin {\n",
              "    0% {\n",
              "      border-color: transparent;\n",
              "      border-bottom-color: var(--fill-color);\n",
              "      border-left-color: var(--fill-color);\n",
              "    }\n",
              "    20% {\n",
              "      border-color: transparent;\n",
              "      border-left-color: var(--fill-color);\n",
              "      border-top-color: var(--fill-color);\n",
              "    }\n",
              "    30% {\n",
              "      border-color: transparent;\n",
              "      border-left-color: var(--fill-color);\n",
              "      border-top-color: var(--fill-color);\n",
              "      border-right-color: var(--fill-color);\n",
              "    }\n",
              "    40% {\n",
              "      border-color: transparent;\n",
              "      border-right-color: var(--fill-color);\n",
              "      border-top-color: var(--fill-color);\n",
              "    }\n",
              "    60% {\n",
              "      border-color: transparent;\n",
              "      border-right-color: var(--fill-color);\n",
              "    }\n",
              "    80% {\n",
              "      border-color: transparent;\n",
              "      border-right-color: var(--fill-color);\n",
              "      border-bottom-color: var(--fill-color);\n",
              "    }\n",
              "    90% {\n",
              "      border-color: transparent;\n",
              "      border-bottom-color: var(--fill-color);\n",
              "    }\n",
              "  }\n",
              "</style>\n",
              "\n",
              "  <script>\n",
              "    async function quickchart(key) {\n",
              "      const quickchartButtonEl =\n",
              "        document.querySelector('#' + key + ' button');\n",
              "      quickchartButtonEl.disabled = true;  // To prevent multiple clicks.\n",
              "      quickchartButtonEl.classList.add('colab-df-spinner');\n",
              "      try {\n",
              "        const charts = await google.colab.kernel.invokeFunction(\n",
              "            'suggestCharts', [key], {});\n",
              "      } catch (error) {\n",
              "        console.error('Error during call to suggestCharts:', error);\n",
              "      }\n",
              "      quickchartButtonEl.classList.remove('colab-df-spinner');\n",
              "      quickchartButtonEl.classList.add('colab-df-quickchart-complete');\n",
              "    }\n",
              "    (() => {\n",
              "      let quickchartButtonEl =\n",
              "        document.querySelector('#df-d4dba571-8a48-4d57-b6fc-a0a24e6de8cf button');\n",
              "      quickchartButtonEl.style.display =\n",
              "        google.colab.kernel.accessAllowed ? 'block' : 'none';\n",
              "    })();\n",
              "  </script>\n",
              "</div>\n",
              "\n",
              "    </div>\n",
              "  </div>\n"
            ],
            "application/vnd.google.colaboratory.intrinsic+json": {
              "type": "dataframe",
              "summary": "{\n  \"name\": \"metricas(set2)\",\n  \"rows\": 8,\n  \"fields\": [\n    {\n      \"column\": \"clusters\",\n      \"properties\": {\n        \"dtype\": \"number\",\n        \"std\": 2,\n        \"min\": 3,\n        \"max\": 10,\n        \"num_unique_values\": 8,\n        \"samples\": [\n          4,\n          8,\n          3\n        ],\n        \"semantic_type\": \"\",\n        \"description\": \"\"\n      }\n    },\n    {\n      \"column\": \"silhouette\",\n      \"properties\": {\n        \"dtype\": \"number\",\n        \"std\": 0.1437744962496605,\n        \"min\": 0.5402811170733091,\n        \"max\": 0.9093155534807978,\n        \"num_unique_values\": 8,\n        \"samples\": [\n          0.5601651098304321,\n          0.8108137231385278,\n          0.5402811170733091\n        ],\n        \"semantic_type\": \"\",\n        \"description\": \"\"\n      }\n    },\n    {\n      \"column\": \"calinski_harabasz\",\n      \"properties\": {\n        \"dtype\": \"number\",\n        \"std\": 30200.115242367636,\n        \"min\": 20592.554643803636,\n        \"max\": 108384.82354645469,\n        \"num_unique_values\": 8,\n        \"samples\": [\n          20592.554643803636,\n          41913.846011618385,\n          20759.041904288722\n        ],\n        \"semantic_type\": \"\",\n        \"description\": \"\"\n      }\n    }\n  ]\n}"
            }
          },
          "metadata": {},
          "execution_count": 288
        }
      ]
    },
    {
      "cell_type": "code",
      "source": [
        "metricas(set3)"
      ],
      "metadata": {
        "colab": {
          "base_uri": "https://localhost:8080/",
          "height": 578
        },
        "id": "gXeNJsXF-1y6",
        "outputId": "dc323d80-2548-4c9c-93e8-1a1bd6029323"
      },
      "execution_count": null,
      "outputs": [
        {
          "output_type": "stream",
          "name": "stderr",
          "text": [
            "/usr/local/lib/python3.10/dist-packages/sklearn/cluster/_kmeans.py:870: FutureWarning: The default value of `n_init` will change from 10 to 'auto' in 1.4. Set the value of `n_init` explicitly to suppress the warning\n",
            "  warnings.warn(\n",
            "/usr/local/lib/python3.10/dist-packages/sklearn/cluster/_kmeans.py:870: FutureWarning: The default value of `n_init` will change from 10 to 'auto' in 1.4. Set the value of `n_init` explicitly to suppress the warning\n",
            "  warnings.warn(\n",
            "/usr/local/lib/python3.10/dist-packages/sklearn/cluster/_kmeans.py:870: FutureWarning: The default value of `n_init` will change from 10 to 'auto' in 1.4. Set the value of `n_init` explicitly to suppress the warning\n",
            "  warnings.warn(\n",
            "/usr/local/lib/python3.10/dist-packages/sklearn/cluster/_kmeans.py:870: FutureWarning: The default value of `n_init` will change from 10 to 'auto' in 1.4. Set the value of `n_init` explicitly to suppress the warning\n",
            "  warnings.warn(\n",
            "/usr/local/lib/python3.10/dist-packages/sklearn/cluster/_kmeans.py:870: FutureWarning: The default value of `n_init` will change from 10 to 'auto' in 1.4. Set the value of `n_init` explicitly to suppress the warning\n",
            "  warnings.warn(\n",
            "/usr/local/lib/python3.10/dist-packages/sklearn/cluster/_kmeans.py:870: FutureWarning: The default value of `n_init` will change from 10 to 'auto' in 1.4. Set the value of `n_init` explicitly to suppress the warning\n",
            "  warnings.warn(\n",
            "/usr/local/lib/python3.10/dist-packages/sklearn/cluster/_kmeans.py:870: FutureWarning: The default value of `n_init` will change from 10 to 'auto' in 1.4. Set the value of `n_init` explicitly to suppress the warning\n",
            "  warnings.warn(\n",
            "/usr/local/lib/python3.10/dist-packages/sklearn/cluster/_kmeans.py:870: FutureWarning: The default value of `n_init` will change from 10 to 'auto' in 1.4. Set the value of `n_init` explicitly to suppress the warning\n",
            "  warnings.warn(\n"
          ]
        },
        {
          "output_type": "execute_result",
          "data": {
            "text/plain": [
              "   clusters  silhouette  calinski_harabasz\n",
              "0         3    0.538501       20510.847172\n",
              "1         4    0.549763       19988.560496\n",
              "2         5    0.582945       21867.623545\n",
              "3         6    0.672627       25008.950774\n",
              "4         7    0.740462       31941.419345\n",
              "5         8    0.812023       41751.577609\n",
              "6         9    0.850218       54817.696194\n",
              "7        10    0.906376      103463.029071"
            ],
            "text/html": [
              "\n",
              "  <div id=\"df-3e7e256d-4040-49bc-b119-4c520a071564\" class=\"colab-df-container\">\n",
              "    <div>\n",
              "<style scoped>\n",
              "    .dataframe tbody tr th:only-of-type {\n",
              "        vertical-align: middle;\n",
              "    }\n",
              "\n",
              "    .dataframe tbody tr th {\n",
              "        vertical-align: top;\n",
              "    }\n",
              "\n",
              "    .dataframe thead th {\n",
              "        text-align: right;\n",
              "    }\n",
              "</style>\n",
              "<table border=\"1\" class=\"dataframe\">\n",
              "  <thead>\n",
              "    <tr style=\"text-align: right;\">\n",
              "      <th></th>\n",
              "      <th>clusters</th>\n",
              "      <th>silhouette</th>\n",
              "      <th>calinski_harabasz</th>\n",
              "    </tr>\n",
              "  </thead>\n",
              "  <tbody>\n",
              "    <tr>\n",
              "      <th>0</th>\n",
              "      <td>3</td>\n",
              "      <td>0.538501</td>\n",
              "      <td>20510.847172</td>\n",
              "    </tr>\n",
              "    <tr>\n",
              "      <th>1</th>\n",
              "      <td>4</td>\n",
              "      <td>0.549763</td>\n",
              "      <td>19988.560496</td>\n",
              "    </tr>\n",
              "    <tr>\n",
              "      <th>2</th>\n",
              "      <td>5</td>\n",
              "      <td>0.582945</td>\n",
              "      <td>21867.623545</td>\n",
              "    </tr>\n",
              "    <tr>\n",
              "      <th>3</th>\n",
              "      <td>6</td>\n",
              "      <td>0.672627</td>\n",
              "      <td>25008.950774</td>\n",
              "    </tr>\n",
              "    <tr>\n",
              "      <th>4</th>\n",
              "      <td>7</td>\n",
              "      <td>0.740462</td>\n",
              "      <td>31941.419345</td>\n",
              "    </tr>\n",
              "    <tr>\n",
              "      <th>5</th>\n",
              "      <td>8</td>\n",
              "      <td>0.812023</td>\n",
              "      <td>41751.577609</td>\n",
              "    </tr>\n",
              "    <tr>\n",
              "      <th>6</th>\n",
              "      <td>9</td>\n",
              "      <td>0.850218</td>\n",
              "      <td>54817.696194</td>\n",
              "    </tr>\n",
              "    <tr>\n",
              "      <th>7</th>\n",
              "      <td>10</td>\n",
              "      <td>0.906376</td>\n",
              "      <td>103463.029071</td>\n",
              "    </tr>\n",
              "  </tbody>\n",
              "</table>\n",
              "</div>\n",
              "    <div class=\"colab-df-buttons\">\n",
              "\n",
              "  <div class=\"colab-df-container\">\n",
              "    <button class=\"colab-df-convert\" onclick=\"convertToInteractive('df-3e7e256d-4040-49bc-b119-4c520a071564')\"\n",
              "            title=\"Convert this dataframe to an interactive table.\"\n",
              "            style=\"display:none;\">\n",
              "\n",
              "  <svg xmlns=\"http://www.w3.org/2000/svg\" height=\"24px\" viewBox=\"0 -960 960 960\">\n",
              "    <path d=\"M120-120v-720h720v720H120Zm60-500h600v-160H180v160Zm220 220h160v-160H400v160Zm0 220h160v-160H400v160ZM180-400h160v-160H180v160Zm440 0h160v-160H620v160ZM180-180h160v-160H180v160Zm440 0h160v-160H620v160Z\"/>\n",
              "  </svg>\n",
              "    </button>\n",
              "\n",
              "  <style>\n",
              "    .colab-df-container {\n",
              "      display:flex;\n",
              "      gap: 12px;\n",
              "    }\n",
              "\n",
              "    .colab-df-convert {\n",
              "      background-color: #E8F0FE;\n",
              "      border: none;\n",
              "      border-radius: 50%;\n",
              "      cursor: pointer;\n",
              "      display: none;\n",
              "      fill: #1967D2;\n",
              "      height: 32px;\n",
              "      padding: 0 0 0 0;\n",
              "      width: 32px;\n",
              "    }\n",
              "\n",
              "    .colab-df-convert:hover {\n",
              "      background-color: #E2EBFA;\n",
              "      box-shadow: 0px 1px 2px rgba(60, 64, 67, 0.3), 0px 1px 3px 1px rgba(60, 64, 67, 0.15);\n",
              "      fill: #174EA6;\n",
              "    }\n",
              "\n",
              "    .colab-df-buttons div {\n",
              "      margin-bottom: 4px;\n",
              "    }\n",
              "\n",
              "    [theme=dark] .colab-df-convert {\n",
              "      background-color: #3B4455;\n",
              "      fill: #D2E3FC;\n",
              "    }\n",
              "\n",
              "    [theme=dark] .colab-df-convert:hover {\n",
              "      background-color: #434B5C;\n",
              "      box-shadow: 0px 1px 3px 1px rgba(0, 0, 0, 0.15);\n",
              "      filter: drop-shadow(0px 1px 2px rgba(0, 0, 0, 0.3));\n",
              "      fill: #FFFFFF;\n",
              "    }\n",
              "  </style>\n",
              "\n",
              "    <script>\n",
              "      const buttonEl =\n",
              "        document.querySelector('#df-3e7e256d-4040-49bc-b119-4c520a071564 button.colab-df-convert');\n",
              "      buttonEl.style.display =\n",
              "        google.colab.kernel.accessAllowed ? 'block' : 'none';\n",
              "\n",
              "      async function convertToInteractive(key) {\n",
              "        const element = document.querySelector('#df-3e7e256d-4040-49bc-b119-4c520a071564');\n",
              "        const dataTable =\n",
              "          await google.colab.kernel.invokeFunction('convertToInteractive',\n",
              "                                                    [key], {});\n",
              "        if (!dataTable) return;\n",
              "\n",
              "        const docLinkHtml = 'Like what you see? Visit the ' +\n",
              "          '<a target=\"_blank\" href=https://colab.research.google.com/notebooks/data_table.ipynb>data table notebook</a>'\n",
              "          + ' to learn more about interactive tables.';\n",
              "        element.innerHTML = '';\n",
              "        dataTable['output_type'] = 'display_data';\n",
              "        await google.colab.output.renderOutput(dataTable, element);\n",
              "        const docLink = document.createElement('div');\n",
              "        docLink.innerHTML = docLinkHtml;\n",
              "        element.appendChild(docLink);\n",
              "      }\n",
              "    </script>\n",
              "  </div>\n",
              "\n",
              "\n",
              "<div id=\"df-8d5474df-c41d-4e86-87b0-fc37ee8a898e\">\n",
              "  <button class=\"colab-df-quickchart\" onclick=\"quickchart('df-8d5474df-c41d-4e86-87b0-fc37ee8a898e')\"\n",
              "            title=\"Suggest charts\"\n",
              "            style=\"display:none;\">\n",
              "\n",
              "<svg xmlns=\"http://www.w3.org/2000/svg\" height=\"24px\"viewBox=\"0 0 24 24\"\n",
              "     width=\"24px\">\n",
              "    <g>\n",
              "        <path d=\"M19 3H5c-1.1 0-2 .9-2 2v14c0 1.1.9 2 2 2h14c1.1 0 2-.9 2-2V5c0-1.1-.9-2-2-2zM9 17H7v-7h2v7zm4 0h-2V7h2v10zm4 0h-2v-4h2v4z\"/>\n",
              "    </g>\n",
              "</svg>\n",
              "  </button>\n",
              "\n",
              "<style>\n",
              "  .colab-df-quickchart {\n",
              "      --bg-color: #E8F0FE;\n",
              "      --fill-color: #1967D2;\n",
              "      --hover-bg-color: #E2EBFA;\n",
              "      --hover-fill-color: #174EA6;\n",
              "      --disabled-fill-color: #AAA;\n",
              "      --disabled-bg-color: #DDD;\n",
              "  }\n",
              "\n",
              "  [theme=dark] .colab-df-quickchart {\n",
              "      --bg-color: #3B4455;\n",
              "      --fill-color: #D2E3FC;\n",
              "      --hover-bg-color: #434B5C;\n",
              "      --hover-fill-color: #FFFFFF;\n",
              "      --disabled-bg-color: #3B4455;\n",
              "      --disabled-fill-color: #666;\n",
              "  }\n",
              "\n",
              "  .colab-df-quickchart {\n",
              "    background-color: var(--bg-color);\n",
              "    border: none;\n",
              "    border-radius: 50%;\n",
              "    cursor: pointer;\n",
              "    display: none;\n",
              "    fill: var(--fill-color);\n",
              "    height: 32px;\n",
              "    padding: 0;\n",
              "    width: 32px;\n",
              "  }\n",
              "\n",
              "  .colab-df-quickchart:hover {\n",
              "    background-color: var(--hover-bg-color);\n",
              "    box-shadow: 0 1px 2px rgba(60, 64, 67, 0.3), 0 1px 3px 1px rgba(60, 64, 67, 0.15);\n",
              "    fill: var(--button-hover-fill-color);\n",
              "  }\n",
              "\n",
              "  .colab-df-quickchart-complete:disabled,\n",
              "  .colab-df-quickchart-complete:disabled:hover {\n",
              "    background-color: var(--disabled-bg-color);\n",
              "    fill: var(--disabled-fill-color);\n",
              "    box-shadow: none;\n",
              "  }\n",
              "\n",
              "  .colab-df-spinner {\n",
              "    border: 2px solid var(--fill-color);\n",
              "    border-color: transparent;\n",
              "    border-bottom-color: var(--fill-color);\n",
              "    animation:\n",
              "      spin 1s steps(1) infinite;\n",
              "  }\n",
              "\n",
              "  @keyframes spin {\n",
              "    0% {\n",
              "      border-color: transparent;\n",
              "      border-bottom-color: var(--fill-color);\n",
              "      border-left-color: var(--fill-color);\n",
              "    }\n",
              "    20% {\n",
              "      border-color: transparent;\n",
              "      border-left-color: var(--fill-color);\n",
              "      border-top-color: var(--fill-color);\n",
              "    }\n",
              "    30% {\n",
              "      border-color: transparent;\n",
              "      border-left-color: var(--fill-color);\n",
              "      border-top-color: var(--fill-color);\n",
              "      border-right-color: var(--fill-color);\n",
              "    }\n",
              "    40% {\n",
              "      border-color: transparent;\n",
              "      border-right-color: var(--fill-color);\n",
              "      border-top-color: var(--fill-color);\n",
              "    }\n",
              "    60% {\n",
              "      border-color: transparent;\n",
              "      border-right-color: var(--fill-color);\n",
              "    }\n",
              "    80% {\n",
              "      border-color: transparent;\n",
              "      border-right-color: var(--fill-color);\n",
              "      border-bottom-color: var(--fill-color);\n",
              "    }\n",
              "    90% {\n",
              "      border-color: transparent;\n",
              "      border-bottom-color: var(--fill-color);\n",
              "    }\n",
              "  }\n",
              "</style>\n",
              "\n",
              "  <script>\n",
              "    async function quickchart(key) {\n",
              "      const quickchartButtonEl =\n",
              "        document.querySelector('#' + key + ' button');\n",
              "      quickchartButtonEl.disabled = true;  // To prevent multiple clicks.\n",
              "      quickchartButtonEl.classList.add('colab-df-spinner');\n",
              "      try {\n",
              "        const charts = await google.colab.kernel.invokeFunction(\n",
              "            'suggestCharts', [key], {});\n",
              "      } catch (error) {\n",
              "        console.error('Error during call to suggestCharts:', error);\n",
              "      }\n",
              "      quickchartButtonEl.classList.remove('colab-df-spinner');\n",
              "      quickchartButtonEl.classList.add('colab-df-quickchart-complete');\n",
              "    }\n",
              "    (() => {\n",
              "      let quickchartButtonEl =\n",
              "        document.querySelector('#df-8d5474df-c41d-4e86-87b0-fc37ee8a898e button');\n",
              "      quickchartButtonEl.style.display =\n",
              "        google.colab.kernel.accessAllowed ? 'block' : 'none';\n",
              "    })();\n",
              "  </script>\n",
              "</div>\n",
              "\n",
              "    </div>\n",
              "  </div>\n"
            ],
            "application/vnd.google.colaboratory.intrinsic+json": {
              "type": "dataframe",
              "summary": "{\n  \"name\": \"metricas(set3)\",\n  \"rows\": 8,\n  \"fields\": [\n    {\n      \"column\": \"clusters\",\n      \"properties\": {\n        \"dtype\": \"number\",\n        \"std\": 2,\n        \"min\": 3,\n        \"max\": 10,\n        \"num_unique_values\": 8,\n        \"samples\": [\n          4,\n          8,\n          3\n        ],\n        \"semantic_type\": \"\",\n        \"description\": \"\"\n      }\n    },\n    {\n      \"column\": \"silhouette\",\n      \"properties\": {\n        \"dtype\": \"number\",\n        \"std\": 0.14247667718137524,\n        \"min\": 0.5385005776087954,\n        \"max\": 0.9063757681910336,\n        \"num_unique_values\": 8,\n        \"samples\": [\n          0.5497627133179378,\n          0.8120226342065217,\n          0.5385005776087954\n        ],\n        \"semantic_type\": \"\",\n        \"description\": \"\"\n      }\n    },\n    {\n      \"column\": \"calinski_harabasz\",\n      \"properties\": {\n        \"dtype\": \"number\",\n        \"std\": 28407.432344441924,\n        \"min\": 19988.56049639627,\n        \"max\": 103463.02907071805,\n        \"num_unique_values\": 8,\n        \"samples\": [\n          19988.56049639627,\n          41751.5776089531,\n          20510.847172034406\n        ],\n        \"semantic_type\": \"\",\n        \"description\": \"\"\n      }\n    }\n  ]\n}"
            }
          },
          "metadata": {},
          "execution_count": 289
        }
      ]
    },
    {
      "cell_type": "markdown",
      "source": [
        "#6 **Incorporación de los clusters a los datos originales**"
      ],
      "metadata": {
        "id": "1Ky0PDP22Znf"
      }
    },
    {
      "cell_type": "code",
      "source": [
        "kmeans=KMeans(n_clusters=10, random_state=123)\n",
        "datos['clusters']=kmeans.fit_predict(x_std)\n",
        "datos.head()"
      ],
      "metadata": {
        "colab": {
          "base_uri": "https://localhost:8080/",
          "height": 446
        },
        "id": "P3CssGcy_ozc",
        "outputId": "491cf29d-b1e0-44be-cfc4-b974e77bc11b"
      },
      "execution_count": null,
      "outputs": [
        {
          "output_type": "stream",
          "name": "stderr",
          "text": [
            "/usr/local/lib/python3.10/dist-packages/sklearn/cluster/_kmeans.py:870: FutureWarning: The default value of `n_init` will change from 10 to 'auto' in 1.4. Set the value of `n_init` explicitly to suppress the warning\n",
            "  warnings.warn(\n"
          ]
        },
        {
          "output_type": "execute_result",
          "data": {
            "text/plain": [
              "           categoria_alimento          departamento    tipo  \\\n",
              "0  Alimentos para el desayuno  Alimentos congelados  Comida   \n",
              "1  Alimentos para el desayuno  Alimentos congelados  Comida   \n",
              "2  Alimentos para el desayuno  Alimentos congelados  Comida   \n",
              "3  Alimentos para el desayuno  Alimentos congelados  Comida   \n",
              "4  Alimentos para el desayuno  Alimentos congelados  Comida   \n",
              "\n",
              "                         promocion            pais estado_civil     genero  \\\n",
              "0                    Bolsas llenas  Estados Unidos       Casado   Femenino   \n",
              "1  Loteria de la caja registradora  Estados Unidos       Casado  Masculino   \n",
              "2  Ahorro para apostadores grandes  Estados Unidos      Soltero   Femenino   \n",
              "3  Loteria de la caja registradora  Estados Unidos       Casado   Femenino   \n",
              "4                      Venta Doble  Estados Unidos       Casado  Masculino   \n",
              "\n",
              "        ocupacion vivienda_propia  promedio_autos(aprox)  ... floristeria  \\\n",
              "0  Skilled Manual               Y                    1.0  ...         1.0   \n",
              "1    Professional               Y                    4.0  ...         1.0   \n",
              "2          Manual               N                    1.0  ...         1.0   \n",
              "3          Manual               Y                    2.0  ...         1.0   \n",
              "4  Skilled Manual               N                    2.0  ...         1.0   \n",
              "\n",
              "          divulgacion   costo ventas_tienda(en millones)  \\\n",
              "0  Daily Paper, Radio  126.62                       7.36   \n",
              "1  Daily Paper, Radio   59.86                       5.52   \n",
              "2  Daily Paper, Radio   84.16                       3.68   \n",
              "3     In-Store Coupon   95.78                       3.68   \n",
              "4               Radio   50.79                       4.08   \n",
              "\n",
              "   costo_tienda(en millones)  ventas_unitarias(en millones)  total_de_hijos  \\\n",
              "0                     2.7232                            4.0             1.0   \n",
              "1                     2.5944                            3.0             0.0   \n",
              "2                     1.3616                            2.0             4.0   \n",
              "3                     1.1776                            2.0             2.0   \n",
              "4                     1.4280                            3.0             0.0   \n",
              "\n",
              "           escolaridad  miembro  clusters  \n",
              "0  Partial High School   Normal         0  \n",
              "1     Bachelors Degree   Silver         0  \n",
              "2  Partial High School   Normal         0  \n",
              "3   High School Degree   Bronze         0  \n",
              "4  Partial High School   Bronze         0  \n",
              "\n",
              "[5 rows x 41 columns]"
            ],
            "text/html": [
              "\n",
              "  <div id=\"df-68797a1a-4fd5-4217-9192-0313dbad2c57\" class=\"colab-df-container\">\n",
              "    <div>\n",
              "<style scoped>\n",
              "    .dataframe tbody tr th:only-of-type {\n",
              "        vertical-align: middle;\n",
              "    }\n",
              "\n",
              "    .dataframe tbody tr th {\n",
              "        vertical-align: top;\n",
              "    }\n",
              "\n",
              "    .dataframe thead th {\n",
              "        text-align: right;\n",
              "    }\n",
              "</style>\n",
              "<table border=\"1\" class=\"dataframe\">\n",
              "  <thead>\n",
              "    <tr style=\"text-align: right;\">\n",
              "      <th></th>\n",
              "      <th>categoria_alimento</th>\n",
              "      <th>departamento</th>\n",
              "      <th>tipo</th>\n",
              "      <th>promocion</th>\n",
              "      <th>pais</th>\n",
              "      <th>estado_civil</th>\n",
              "      <th>genero</th>\n",
              "      <th>ocupacion</th>\n",
              "      <th>vivienda_propia</th>\n",
              "      <th>promedio_autos(aprox)</th>\n",
              "      <th>...</th>\n",
              "      <th>floristeria</th>\n",
              "      <th>divulgacion</th>\n",
              "      <th>costo</th>\n",
              "      <th>ventas_tienda(en millones)</th>\n",
              "      <th>costo_tienda(en millones)</th>\n",
              "      <th>ventas_unitarias(en millones)</th>\n",
              "      <th>total_de_hijos</th>\n",
              "      <th>escolaridad</th>\n",
              "      <th>miembro</th>\n",
              "      <th>clusters</th>\n",
              "    </tr>\n",
              "  </thead>\n",
              "  <tbody>\n",
              "    <tr>\n",
              "      <th>0</th>\n",
              "      <td>Alimentos para el desayuno</td>\n",
              "      <td>Alimentos congelados</td>\n",
              "      <td>Comida</td>\n",
              "      <td>Bolsas llenas</td>\n",
              "      <td>Estados Unidos</td>\n",
              "      <td>Casado</td>\n",
              "      <td>Femenino</td>\n",
              "      <td>Skilled Manual</td>\n",
              "      <td>Y</td>\n",
              "      <td>1.0</td>\n",
              "      <td>...</td>\n",
              "      <td>1.0</td>\n",
              "      <td>Daily Paper, Radio</td>\n",
              "      <td>126.62</td>\n",
              "      <td>7.36</td>\n",
              "      <td>2.7232</td>\n",
              "      <td>4.0</td>\n",
              "      <td>1.0</td>\n",
              "      <td>Partial High School</td>\n",
              "      <td>Normal</td>\n",
              "      <td>0</td>\n",
              "    </tr>\n",
              "    <tr>\n",
              "      <th>1</th>\n",
              "      <td>Alimentos para el desayuno</td>\n",
              "      <td>Alimentos congelados</td>\n",
              "      <td>Comida</td>\n",
              "      <td>Loteria de la caja registradora</td>\n",
              "      <td>Estados Unidos</td>\n",
              "      <td>Casado</td>\n",
              "      <td>Masculino</td>\n",
              "      <td>Professional</td>\n",
              "      <td>Y</td>\n",
              "      <td>4.0</td>\n",
              "      <td>...</td>\n",
              "      <td>1.0</td>\n",
              "      <td>Daily Paper, Radio</td>\n",
              "      <td>59.86</td>\n",
              "      <td>5.52</td>\n",
              "      <td>2.5944</td>\n",
              "      <td>3.0</td>\n",
              "      <td>0.0</td>\n",
              "      <td>Bachelors Degree</td>\n",
              "      <td>Silver</td>\n",
              "      <td>0</td>\n",
              "    </tr>\n",
              "    <tr>\n",
              "      <th>2</th>\n",
              "      <td>Alimentos para el desayuno</td>\n",
              "      <td>Alimentos congelados</td>\n",
              "      <td>Comida</td>\n",
              "      <td>Ahorro para apostadores grandes</td>\n",
              "      <td>Estados Unidos</td>\n",
              "      <td>Soltero</td>\n",
              "      <td>Femenino</td>\n",
              "      <td>Manual</td>\n",
              "      <td>N</td>\n",
              "      <td>1.0</td>\n",
              "      <td>...</td>\n",
              "      <td>1.0</td>\n",
              "      <td>Daily Paper, Radio</td>\n",
              "      <td>84.16</td>\n",
              "      <td>3.68</td>\n",
              "      <td>1.3616</td>\n",
              "      <td>2.0</td>\n",
              "      <td>4.0</td>\n",
              "      <td>Partial High School</td>\n",
              "      <td>Normal</td>\n",
              "      <td>0</td>\n",
              "    </tr>\n",
              "    <tr>\n",
              "      <th>3</th>\n",
              "      <td>Alimentos para el desayuno</td>\n",
              "      <td>Alimentos congelados</td>\n",
              "      <td>Comida</td>\n",
              "      <td>Loteria de la caja registradora</td>\n",
              "      <td>Estados Unidos</td>\n",
              "      <td>Casado</td>\n",
              "      <td>Femenino</td>\n",
              "      <td>Manual</td>\n",
              "      <td>Y</td>\n",
              "      <td>2.0</td>\n",
              "      <td>...</td>\n",
              "      <td>1.0</td>\n",
              "      <td>In-Store Coupon</td>\n",
              "      <td>95.78</td>\n",
              "      <td>3.68</td>\n",
              "      <td>1.1776</td>\n",
              "      <td>2.0</td>\n",
              "      <td>2.0</td>\n",
              "      <td>High School Degree</td>\n",
              "      <td>Bronze</td>\n",
              "      <td>0</td>\n",
              "    </tr>\n",
              "    <tr>\n",
              "      <th>4</th>\n",
              "      <td>Alimentos para el desayuno</td>\n",
              "      <td>Alimentos congelados</td>\n",
              "      <td>Comida</td>\n",
              "      <td>Venta Doble</td>\n",
              "      <td>Estados Unidos</td>\n",
              "      <td>Casado</td>\n",
              "      <td>Masculino</td>\n",
              "      <td>Skilled Manual</td>\n",
              "      <td>N</td>\n",
              "      <td>2.0</td>\n",
              "      <td>...</td>\n",
              "      <td>1.0</td>\n",
              "      <td>Radio</td>\n",
              "      <td>50.79</td>\n",
              "      <td>4.08</td>\n",
              "      <td>1.4280</td>\n",
              "      <td>3.0</td>\n",
              "      <td>0.0</td>\n",
              "      <td>Partial High School</td>\n",
              "      <td>Bronze</td>\n",
              "      <td>0</td>\n",
              "    </tr>\n",
              "  </tbody>\n",
              "</table>\n",
              "<p>5 rows × 41 columns</p>\n",
              "</div>\n",
              "    <div class=\"colab-df-buttons\">\n",
              "\n",
              "  <div class=\"colab-df-container\">\n",
              "    <button class=\"colab-df-convert\" onclick=\"convertToInteractive('df-68797a1a-4fd5-4217-9192-0313dbad2c57')\"\n",
              "            title=\"Convert this dataframe to an interactive table.\"\n",
              "            style=\"display:none;\">\n",
              "\n",
              "  <svg xmlns=\"http://www.w3.org/2000/svg\" height=\"24px\" viewBox=\"0 -960 960 960\">\n",
              "    <path d=\"M120-120v-720h720v720H120Zm60-500h600v-160H180v160Zm220 220h160v-160H400v160Zm0 220h160v-160H400v160ZM180-400h160v-160H180v160Zm440 0h160v-160H620v160ZM180-180h160v-160H180v160Zm440 0h160v-160H620v160Z\"/>\n",
              "  </svg>\n",
              "    </button>\n",
              "\n",
              "  <style>\n",
              "    .colab-df-container {\n",
              "      display:flex;\n",
              "      gap: 12px;\n",
              "    }\n",
              "\n",
              "    .colab-df-convert {\n",
              "      background-color: #E8F0FE;\n",
              "      border: none;\n",
              "      border-radius: 50%;\n",
              "      cursor: pointer;\n",
              "      display: none;\n",
              "      fill: #1967D2;\n",
              "      height: 32px;\n",
              "      padding: 0 0 0 0;\n",
              "      width: 32px;\n",
              "    }\n",
              "\n",
              "    .colab-df-convert:hover {\n",
              "      background-color: #E2EBFA;\n",
              "      box-shadow: 0px 1px 2px rgba(60, 64, 67, 0.3), 0px 1px 3px 1px rgba(60, 64, 67, 0.15);\n",
              "      fill: #174EA6;\n",
              "    }\n",
              "\n",
              "    .colab-df-buttons div {\n",
              "      margin-bottom: 4px;\n",
              "    }\n",
              "\n",
              "    [theme=dark] .colab-df-convert {\n",
              "      background-color: #3B4455;\n",
              "      fill: #D2E3FC;\n",
              "    }\n",
              "\n",
              "    [theme=dark] .colab-df-convert:hover {\n",
              "      background-color: #434B5C;\n",
              "      box-shadow: 0px 1px 3px 1px rgba(0, 0, 0, 0.15);\n",
              "      filter: drop-shadow(0px 1px 2px rgba(0, 0, 0, 0.3));\n",
              "      fill: #FFFFFF;\n",
              "    }\n",
              "  </style>\n",
              "\n",
              "    <script>\n",
              "      const buttonEl =\n",
              "        document.querySelector('#df-68797a1a-4fd5-4217-9192-0313dbad2c57 button.colab-df-convert');\n",
              "      buttonEl.style.display =\n",
              "        google.colab.kernel.accessAllowed ? 'block' : 'none';\n",
              "\n",
              "      async function convertToInteractive(key) {\n",
              "        const element = document.querySelector('#df-68797a1a-4fd5-4217-9192-0313dbad2c57');\n",
              "        const dataTable =\n",
              "          await google.colab.kernel.invokeFunction('convertToInteractive',\n",
              "                                                    [key], {});\n",
              "        if (!dataTable) return;\n",
              "\n",
              "        const docLinkHtml = 'Like what you see? Visit the ' +\n",
              "          '<a target=\"_blank\" href=https://colab.research.google.com/notebooks/data_table.ipynb>data table notebook</a>'\n",
              "          + ' to learn more about interactive tables.';\n",
              "        element.innerHTML = '';\n",
              "        dataTable['output_type'] = 'display_data';\n",
              "        await google.colab.output.renderOutput(dataTable, element);\n",
              "        const docLink = document.createElement('div');\n",
              "        docLink.innerHTML = docLinkHtml;\n",
              "        element.appendChild(docLink);\n",
              "      }\n",
              "    </script>\n",
              "  </div>\n",
              "\n",
              "\n",
              "<div id=\"df-e8e057b5-bb07-4040-b807-0373c3c0a041\">\n",
              "  <button class=\"colab-df-quickchart\" onclick=\"quickchart('df-e8e057b5-bb07-4040-b807-0373c3c0a041')\"\n",
              "            title=\"Suggest charts\"\n",
              "            style=\"display:none;\">\n",
              "\n",
              "<svg xmlns=\"http://www.w3.org/2000/svg\" height=\"24px\"viewBox=\"0 0 24 24\"\n",
              "     width=\"24px\">\n",
              "    <g>\n",
              "        <path d=\"M19 3H5c-1.1 0-2 .9-2 2v14c0 1.1.9 2 2 2h14c1.1 0 2-.9 2-2V5c0-1.1-.9-2-2-2zM9 17H7v-7h2v7zm4 0h-2V7h2v10zm4 0h-2v-4h2v4z\"/>\n",
              "    </g>\n",
              "</svg>\n",
              "  </button>\n",
              "\n",
              "<style>\n",
              "  .colab-df-quickchart {\n",
              "      --bg-color: #E8F0FE;\n",
              "      --fill-color: #1967D2;\n",
              "      --hover-bg-color: #E2EBFA;\n",
              "      --hover-fill-color: #174EA6;\n",
              "      --disabled-fill-color: #AAA;\n",
              "      --disabled-bg-color: #DDD;\n",
              "  }\n",
              "\n",
              "  [theme=dark] .colab-df-quickchart {\n",
              "      --bg-color: #3B4455;\n",
              "      --fill-color: #D2E3FC;\n",
              "      --hover-bg-color: #434B5C;\n",
              "      --hover-fill-color: #FFFFFF;\n",
              "      --disabled-bg-color: #3B4455;\n",
              "      --disabled-fill-color: #666;\n",
              "  }\n",
              "\n",
              "  .colab-df-quickchart {\n",
              "    background-color: var(--bg-color);\n",
              "    border: none;\n",
              "    border-radius: 50%;\n",
              "    cursor: pointer;\n",
              "    display: none;\n",
              "    fill: var(--fill-color);\n",
              "    height: 32px;\n",
              "    padding: 0;\n",
              "    width: 32px;\n",
              "  }\n",
              "\n",
              "  .colab-df-quickchart:hover {\n",
              "    background-color: var(--hover-bg-color);\n",
              "    box-shadow: 0 1px 2px rgba(60, 64, 67, 0.3), 0 1px 3px 1px rgba(60, 64, 67, 0.15);\n",
              "    fill: var(--button-hover-fill-color);\n",
              "  }\n",
              "\n",
              "  .colab-df-quickchart-complete:disabled,\n",
              "  .colab-df-quickchart-complete:disabled:hover {\n",
              "    background-color: var(--disabled-bg-color);\n",
              "    fill: var(--disabled-fill-color);\n",
              "    box-shadow: none;\n",
              "  }\n",
              "\n",
              "  .colab-df-spinner {\n",
              "    border: 2px solid var(--fill-color);\n",
              "    border-color: transparent;\n",
              "    border-bottom-color: var(--fill-color);\n",
              "    animation:\n",
              "      spin 1s steps(1) infinite;\n",
              "  }\n",
              "\n",
              "  @keyframes spin {\n",
              "    0% {\n",
              "      border-color: transparent;\n",
              "      border-bottom-color: var(--fill-color);\n",
              "      border-left-color: var(--fill-color);\n",
              "    }\n",
              "    20% {\n",
              "      border-color: transparent;\n",
              "      border-left-color: var(--fill-color);\n",
              "      border-top-color: var(--fill-color);\n",
              "    }\n",
              "    30% {\n",
              "      border-color: transparent;\n",
              "      border-left-color: var(--fill-color);\n",
              "      border-top-color: var(--fill-color);\n",
              "      border-right-color: var(--fill-color);\n",
              "    }\n",
              "    40% {\n",
              "      border-color: transparent;\n",
              "      border-right-color: var(--fill-color);\n",
              "      border-top-color: var(--fill-color);\n",
              "    }\n",
              "    60% {\n",
              "      border-color: transparent;\n",
              "      border-right-color: var(--fill-color);\n",
              "    }\n",
              "    80% {\n",
              "      border-color: transparent;\n",
              "      border-right-color: var(--fill-color);\n",
              "      border-bottom-color: var(--fill-color);\n",
              "    }\n",
              "    90% {\n",
              "      border-color: transparent;\n",
              "      border-bottom-color: var(--fill-color);\n",
              "    }\n",
              "  }\n",
              "</style>\n",
              "\n",
              "  <script>\n",
              "    async function quickchart(key) {\n",
              "      const quickchartButtonEl =\n",
              "        document.querySelector('#' + key + ' button');\n",
              "      quickchartButtonEl.disabled = true;  // To prevent multiple clicks.\n",
              "      quickchartButtonEl.classList.add('colab-df-spinner');\n",
              "      try {\n",
              "        const charts = await google.colab.kernel.invokeFunction(\n",
              "            'suggestCharts', [key], {});\n",
              "      } catch (error) {\n",
              "        console.error('Error during call to suggestCharts:', error);\n",
              "      }\n",
              "      quickchartButtonEl.classList.remove('colab-df-spinner');\n",
              "      quickchartButtonEl.classList.add('colab-df-quickchart-complete');\n",
              "    }\n",
              "    (() => {\n",
              "      let quickchartButtonEl =\n",
              "        document.querySelector('#df-e8e057b5-bb07-4040-b807-0373c3c0a041 button');\n",
              "      quickchartButtonEl.style.display =\n",
              "        google.colab.kernel.accessAllowed ? 'block' : 'none';\n",
              "    })();\n",
              "  </script>\n",
              "</div>\n",
              "\n",
              "    </div>\n",
              "  </div>\n"
            ],
            "application/vnd.google.colaboratory.intrinsic+json": {
              "type": "dataframe",
              "variable_name": "datos"
            }
          },
          "metadata": {},
          "execution_count": 290
        }
      ]
    },
    {
      "cell_type": "markdown",
      "source": [
        "Analizando los clusters"
      ],
      "metadata": {
        "id": "_ZF4RkTiAETN"
      }
    },
    {
      "cell_type": "markdown",
      "source": [
        "Análisis de variables: 'pais', 'cafeteria', 'tienda_de_videos',\n",
        "'barra_de_ensaladas', 'comida_preparada', 'floristeria'"
      ],
      "metadata": {
        "id": "5azTkG5ij2S8"
      }
    },
    {
      "cell_type": "markdown",
      "source": [
        "##Contabiización por cluster"
      ],
      "metadata": {
        "id": "e-lArCaC2jmq"
      }
    },
    {
      "cell_type": "code",
      "source": [
        "datos['clusters'].value_counts()"
      ],
      "metadata": {
        "colab": {
          "base_uri": "https://localhost:8080/"
        },
        "id": "8gHKEKie_Vl9",
        "outputId": "eabbbf5b-e719-4548-be62-8c1bca3a387c"
      },
      "execution_count": null,
      "outputs": [
        {
          "output_type": "execute_result",
          "data": {
            "text/plain": [
              "clusters\n",
              "0    13013\n",
              "3     9603\n",
              "4     8388\n",
              "2     7125\n",
              "6     5704\n",
              "1     4211\n",
              "7     3960\n",
              "5     3451\n",
              "8     2621\n",
              "9     2352\n",
              "Name: count, dtype: int64"
            ]
          },
          "metadata": {},
          "execution_count": 291
        }
      ]
    },
    {
      "cell_type": "markdown",
      "source": [
        "#7. **Análisis**"
      ],
      "metadata": {
        "id": "tpNBmCwLqyo4"
      }
    },
    {
      "cell_type": "markdown",
      "source": [
        "Luego de revisar infinidad de combinaciones para la correcta selección de las variables que tuviesen una buena relación para la clusterización, se opto por la selección de el pais, junto con las variables: 'pais', 'cafeteria', 'tienda_de_videos', 'barra_de_ensaladas', 'comida_preparada', 'floristeria'.\n",
        "\n",
        "Al realizar las divisiones por pais, los clusters se fueron agrupando de acuerdo a su ubicación, predominando USA con la mayor cantidad de clusters allí contando con: 6 de los 10 clusters óptimos cálculados."
      ],
      "metadata": {
        "id": "wuw6Pv9Vq0Vg"
      }
    },
    {
      "cell_type": "code",
      "source": [
        "fig= plt.figure(figsize=(8,5))\n",
        "ax=sns.countplot(data=datos, x='clusters', hue='pais', palette='Set3')\n",
        "ax.set_title('Clusters por pais')"
      ],
      "metadata": {
        "colab": {
          "base_uri": "https://localhost:8080/",
          "height": 504
        },
        "id": "tGKbiUyvrz97",
        "outputId": "09333721-a3e6-4ad6-afad-cb5fd9aaa356"
      },
      "execution_count": null,
      "outputs": [
        {
          "output_type": "execute_result",
          "data": {
            "text/plain": [
              "Text(0.5, 1.0, 'Clusters por pais')"
            ]
          },
          "metadata": {},
          "execution_count": 379
        },
        {
          "output_type": "display_data",
          "data": {
            "text/plain": [
              "<Figure size 800x500 with 1 Axes>"
            ],
            "image/png": "[encoded data removed]"
          },
          "metadata": {}
        }
      ]
    },
    {
      "cell_type": "markdown",
      "source": [
        "Con la información anterior se puede delimitar aún más la información analizar, esto enfocandonos en el tipo de miembro, el cuál predomina la clase **bronze**, estando presente en gran cantidad en todos los clusters."
      ],
      "metadata": {
        "id": "wO0-0xYQsE99"
      }
    },
    {
      "cell_type": "code",
      "source": [
        "fig= plt.figure(figsize=(10,5))\n",
        "ax=sns.countplot(data=datos, x='clusters', hue='miembro', palette='Set2')\n",
        "ax.set_title('Miembro por cluster')"
      ],
      "metadata": {
        "colab": {
          "base_uri": "https://localhost:8080/",
          "height": 504
        },
        "id": "zMkRldywseLW",
        "outputId": "ecc485ec-2788-48eb-cb77-e9ccff416a2c"
      },
      "execution_count": null,
      "outputs": [
        {
          "output_type": "execute_result",
          "data": {
            "text/plain": [
              "Text(0.5, 1.0, 'Miembro por cluster')"
            ]
          },
          "metadata": {},
          "execution_count": 377
        },
        {
          "output_type": "display_data",
          "data": {
            "text/plain": [
              "<Figure size 1000x500 with 1 Axes>"
            ],
            "image/png": "[encoded data removed]"
          },
          "metadata": {}
        }
      ]
    },
    {
      "cell_type": "markdown",
      "source": [
        "Esto facilita revisar la información correpondiente a los miembros **bronze** como puede ser el tipo de producto que les gusta:"
      ],
      "metadata": {
        "id": "an0rL70lu8xG"
      }
    },
    {
      "cell_type": "code",
      "source": [
        "fig= plt.figure(figsize=(10,5))\n",
        "ax=sns.countplot(data=datos[datos['miembro']=='Bronze'], x='miembro', hue='tipo', palette='Set2')\n",
        "ax.set_title('Tipo de producto de los miembros \"Bronze\"')"
      ],
      "metadata": {
        "colab": {
          "base_uri": "https://localhost:8080/",
          "height": 504
        },
        "id": "p2LDGIL2vFbP",
        "outputId": "b5d96a92-26f3-47e2-ecdf-c4e6c7952847"
      },
      "execution_count": null,
      "outputs": [
        {
          "output_type": "execute_result",
          "data": {
            "text/plain": [
              "Text(0.5, 1.0, 'Tipo de producto de los miembros \"Bronze\"')"
            ]
          },
          "metadata": {},
          "execution_count": 375
        },
        {
          "output_type": "display_data",
          "data": {
            "text/plain": [
              "<Figure size 1000x500 with 1 Axes>"
            ],
            "image/png": "[encoded data removed]"
          },
          "metadata": {}
        }
      ]
    },
    {
      "cell_type": "markdown",
      "source": [
        "A manera de complemento podemos revisar de la misma clase de miembros, cuál es el ingreso que predomina de dichos miembros:"
      ],
      "metadata": {
        "id": "lCfIR8gbvJPo"
      }
    },
    {
      "cell_type": "code",
      "source": [
        "fig= plt.figure(figsize=(10,5))\n",
        "ax=sns.countplot(data=datos[(datos['miembro']=='Bronze') & (datos['tipo']=='Comida')], x='miembro', hue='ingreso_anual', palette='Set2')\n",
        "ax.set_title('Tipo de ingreso por miembro \"Bronze\"')"
      ],
      "metadata": {
        "colab": {
          "base_uri": "https://localhost:8080/",
          "height": 504
        },
        "id": "DhohSULltiaQ",
        "outputId": "6171f8ea-de04-4d08-e33f-c46a05fc9488"
      },
      "execution_count": null,
      "outputs": [
        {
          "output_type": "execute_result",
          "data": {
            "text/plain": [
              "Text(0.5, 1.0, 'Tipo de ingreso por miembro \"Bronze\"')"
            ]
          },
          "metadata": {},
          "execution_count": 376
        },
        {
          "output_type": "display_data",
          "data": {
            "text/plain": [
              "<Figure size 1000x500 with 1 Axes>"
            ],
            "image/png": "[encoded data removed]"
          },
          "metadata": {}
        }
      ]
    },
    {
      "cell_type": "code",
      "source": [
        "fig= plt.figure(figsize=(22,7))\n",
        "ax=sns.countplot(data=datos[( datos['miembro']=='Bronze') & (datos['tipo']=='Comida') & (datos['ingreso_anual']=='$30K - $50K')], x='miembro', hue='departamento', palette='Set2')\n",
        "ax.set_title(\"Compras por departamento para miembros 'Bronze\")"
      ],
      "metadata": {
        "colab": {
          "base_uri": "https://localhost:8080/",
          "height": 658
        },
        "id": "k5tTMUEpveBx",
        "outputId": "163ba777-3810-4d35-82f6-31dfc0536892"
      },
      "execution_count": null,
      "outputs": [
        {
          "output_type": "execute_result",
          "data": {
            "text/plain": [
              "Text(0.5, 1.0, \"Compras por departamento para miembros 'Bronze\")"
            ]
          },
          "metadata": {},
          "execution_count": 373
        },
        {
          "output_type": "display_data",
          "data": {
            "text/plain": [
              "<Figure size 2200x700 with 1 Axes>"
            ],
            "image/png": "[encoded data removed]"
          },
          "metadata": {}
        }
      ]
    },
    {
      "cell_type": "markdown",
      "source": [
        "#8. ***Sugerencias/Recomendaciones generales***\n",
        "\n",
        "De aucerdo a lo mostrado anteriormente, se puede generar una estrategia con respecto a los productos que mayormente consumen los miembros Bronze para mantener su fidelidad debido a que son quienes predominan en número y transacciones que se presentan para la tienda.\n",
        "\n",
        "Como se pudo observar también, los miembros Normal es la cantidad que predomina luego de los Bronze, son los miembro Normal que también tienen gran participación en cada cluster.\n",
        "\n",
        "Por último, se puede sugerir concentrar diversas campañas o estrategias del cluster 0 al 4, esto debido a que son los clusters con gran parte de los miembros de todas las categorias, siendo los países USA y México con dichas cifras."
      ],
      "metadata": {
        "id": "KlSCGyJtxyrc"
      }
    },
    {
      "cell_type": "markdown",
      "source": [
        "#**Conclusiones**"
      ],
      "metadata": {
        "id": "Tvk9mDW7qNp9"
      }
    },
    {
      "cell_type": "markdown",
      "source": [
        "El proyecto \"La Esencia del Cliente\" ha demostrado ser exitoso en la aplicación de técnicas de clusterización utilizando herramientas de Python como Scikit-Learn, pandas y numpy. Estas herramientas han sido fundamentales para analizar y procesar los datos de manera efectiva, permitiéndonos identificar patrones y segmentar a los clientes en grupos homogéneos.\n",
        "\n",
        "Mediante el uso de Scikit-Learn, pudimos implementar algoritmos de clusterización lo que nos permitió agrupar a los clientes en función de similitudes en sus características y comportamiento de compra. Además, la flexibilidad de pandas y numpy nos ha facilitado la manipulación y transformación de los datos, preparándolos adecuadamente para su posterior análisis.\n",
        "\n",
        "Gracias a estas herramientas de Python, hemos logrado obtener información valiosa sobre nuestros clientes, identificando segmentos específicos con características y necesidades similares. Esto nos brinda la oportunidad de personalizar nuestras estrategias de marketing y mejorar la experiencia del cliente, adaptándonos a sus preferencias y necesidades individuales."
      ],
      "metadata": {
        "id": "-Z-_VtrHqqNY"
      }
    },
    {
      "cell_type": "code",
      "source": [],
      "metadata": {
        "id": "GVyWYef3p_3L"
      },
      "execution_count": null,
      "outputs": []
    }
  ]
}